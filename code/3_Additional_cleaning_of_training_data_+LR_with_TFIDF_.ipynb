{
  "nbformat": 4,
  "nbformat_minor": 0,
  "metadata": {
    "colab": {
      "name": "3 Additional cleaning of training data +LR with TFIDF .ipynb",
      "provenance": [],
      "collapsed_sections": [],
      "toc_visible": true,
      "include_colab_link": true
    },
    "kernelspec": {
      "name": "python3",
      "display_name": "Python 3"
    }
  },
  "cells": [
    {
      "cell_type": "markdown",
      "metadata": {
        "id": "view-in-github",
        "colab_type": "text"
      },
      "source": [
        "<a href=\"https://colab.research.google.com/github/inessa3/DMML2020_Tesla/blob/main/3_Additional_cleaning_of_training_data_%2BLR_with_TFIDF_.ipynb\" target=\"_parent\"><img src=\"https://colab.research.google.com/assets/colab-badge.svg\" alt=\"Open In Colab\"/></a>"
      ]
    },
    {
      "cell_type": "markdown",
      "metadata": {
        "id": "1Zny7OYj0SKG"
      },
      "source": [
        "<img src='https://upload.wikimedia.org/wikipedia/commons/7/77/Logo_HEC_Lausanne.png' width=\"200\">"
      ]
    },
    {
      "cell_type": "markdown",
      "metadata": {
        "id": "gqskTWzzxAeH"
      },
      "source": [
        "# Explanation\n",
        "This is the third notebook of our project. It represents our second iteration to improve our accuracy score. Here, we  tried to clean the data better.\n",
        "\n",
        "**Data Cleaning**\n",
        "\n",
        "We cleaned the training data only and made the subsequent predictions on unlabelled test data.\n",
        "\n",
        "To clean the data better, we tried the following new methods:\n",
        "* Remove HTML chunks in the tweets\n",
        "* Clean the Data with PorterStemmer, accounting for some impurities that we found in the tweets.\n",
        "\n",
        "**Predictions**\n",
        "\n",
        "Subsequently, we tested if the prediction scores improved. For this, we kept using logistic regression as a classifier. We used the following classifiers:\n",
        "* Best parameters without cross validation\n",
        "* Best parameters with cross validation\n",
        "\n",
        "**Results**\n",
        "\n",
        "Unfortunately, our accuracy decreased with this data cleaning method and with both classifiers. Therefore, we are not going to submit it.\n",
        "\n",
        "\n",
        "**Outlook**\n",
        "\n",
        "In the next iterations, we will use TDIDF and then some other techniques such as knn and decision trees to see if our accuracy improves.\n",
        "These subsequent iterations can be seen in the following notebook (\"4 Improving LR with TFIDF+Other classifier + conclusion\").\n"
      ]
    },
    {
      "cell_type": "markdown",
      "metadata": {
        "id": "_k4slDFcq5r9"
      },
      "source": [
        "##Import Libraries\n"
      ]
    },
    {
      "cell_type": "code",
      "metadata": {
        "id": "xvlOuBitrCBK"
      },
      "source": [
        "%matplotlib inline\n",
        "import pandas as pd\n",
        "import numpy as np\n",
        "import matplotlib.pyplot as plt\n",
        "%load_ext autoreload\n",
        "import seaborn as sns\n",
        "sns.set_style(\"white\")"
      ],
      "execution_count": null,
      "outputs": []
    },
    {
      "cell_type": "code",
      "metadata": {
        "id": "-qNXzSCmshwn"
      },
      "source": [
        "from sklearn.feature_extraction.text import CountVectorizer,TfidfVectorizer\n",
        "from sklearn.base import TransformerMixin\n",
        "from sklearn.pipeline import Pipeline\n",
        "import spacy\n",
        "import string\n",
        "from spacy.lang.en.stop_words import STOP_WORDS\n",
        "from spacy.lang.en import English\n",
        "from sklearn.model_selection import train_test_split\n",
        "from sklearn.linear_model import LogisticRegression, LogisticRegressionCV\n",
        "from sklearn.metrics import confusion_matrix, accuracy_score, precision_score, recall_score, f1_score"
      ],
      "execution_count": null,
      "outputs": []
    },
    {
      "cell_type": "code",
      "metadata": {
        "id": "5IJ8H2R41eg7"
      },
      "source": [
        "import nltk, re, pprint\n",
        "from nltk import word_tokenize"
      ],
      "execution_count": null,
      "outputs": []
    },
    {
      "cell_type": "code",
      "metadata": {
        "id": "fqbRL2Rssk9J",
        "colab": {
          "base_uri": "https://localhost:8080/"
        },
        "outputId": "38eafc06-c53b-4763-deab-af95e069d2e4"
      },
      "source": [
        "!python -m spacy download en"
      ],
      "execution_count": null,
      "outputs": [
        {
          "output_type": "stream",
          "text": [
            "Requirement already satisfied: en_core_web_sm==2.2.5 from https://github.com/explosion/spacy-models/releases/download/en_core_web_sm-2.2.5/en_core_web_sm-2.2.5.tar.gz#egg=en_core_web_sm==2.2.5 in /usr/local/lib/python3.6/dist-packages (2.2.5)\n",
            "Requirement already satisfied: spacy>=2.2.2 in /usr/local/lib/python3.6/dist-packages (from en_core_web_sm==2.2.5) (2.2.4)\n",
            "Requirement already satisfied: murmurhash<1.1.0,>=0.28.0 in /usr/local/lib/python3.6/dist-packages (from spacy>=2.2.2->en_core_web_sm==2.2.5) (1.0.5)\n",
            "Requirement already satisfied: requests<3.0.0,>=2.13.0 in /usr/local/lib/python3.6/dist-packages (from spacy>=2.2.2->en_core_web_sm==2.2.5) (2.23.0)\n",
            "Requirement already satisfied: blis<0.5.0,>=0.4.0 in /usr/local/lib/python3.6/dist-packages (from spacy>=2.2.2->en_core_web_sm==2.2.5) (0.4.1)\n",
            "Requirement already satisfied: cymem<2.1.0,>=2.0.2 in /usr/local/lib/python3.6/dist-packages (from spacy>=2.2.2->en_core_web_sm==2.2.5) (2.0.5)\n",
            "Requirement already satisfied: catalogue<1.1.0,>=0.0.7 in /usr/local/lib/python3.6/dist-packages (from spacy>=2.2.2->en_core_web_sm==2.2.5) (1.0.0)\n",
            "Requirement already satisfied: setuptools in /usr/local/lib/python3.6/dist-packages (from spacy>=2.2.2->en_core_web_sm==2.2.5) (50.3.2)\n",
            "Requirement already satisfied: tqdm<5.0.0,>=4.38.0 in /usr/local/lib/python3.6/dist-packages (from spacy>=2.2.2->en_core_web_sm==2.2.5) (4.41.1)\n",
            "Requirement already satisfied: numpy>=1.15.0 in /usr/local/lib/python3.6/dist-packages (from spacy>=2.2.2->en_core_web_sm==2.2.5) (1.18.5)\n",
            "Requirement already satisfied: srsly<1.1.0,>=1.0.2 in /usr/local/lib/python3.6/dist-packages (from spacy>=2.2.2->en_core_web_sm==2.2.5) (1.0.5)\n",
            "Requirement already satisfied: thinc==7.4.0 in /usr/local/lib/python3.6/dist-packages (from spacy>=2.2.2->en_core_web_sm==2.2.5) (7.4.0)\n",
            "Requirement already satisfied: wasabi<1.1.0,>=0.4.0 in /usr/local/lib/python3.6/dist-packages (from spacy>=2.2.2->en_core_web_sm==2.2.5) (0.8.0)\n",
            "Requirement already satisfied: plac<1.2.0,>=0.9.6 in /usr/local/lib/python3.6/dist-packages (from spacy>=2.2.2->en_core_web_sm==2.2.5) (1.1.3)\n",
            "Requirement already satisfied: preshed<3.1.0,>=3.0.2 in /usr/local/lib/python3.6/dist-packages (from spacy>=2.2.2->en_core_web_sm==2.2.5) (3.0.5)\n",
            "Requirement already satisfied: certifi>=2017.4.17 in /usr/local/lib/python3.6/dist-packages (from requests<3.0.0,>=2.13.0->spacy>=2.2.2->en_core_web_sm==2.2.5) (2020.12.5)\n",
            "Requirement already satisfied: chardet<4,>=3.0.2 in /usr/local/lib/python3.6/dist-packages (from requests<3.0.0,>=2.13.0->spacy>=2.2.2->en_core_web_sm==2.2.5) (3.0.4)\n",
            "Requirement already satisfied: urllib3!=1.25.0,!=1.25.1,<1.26,>=1.21.1 in /usr/local/lib/python3.6/dist-packages (from requests<3.0.0,>=2.13.0->spacy>=2.2.2->en_core_web_sm==2.2.5) (1.24.3)\n",
            "Requirement already satisfied: idna<3,>=2.5 in /usr/local/lib/python3.6/dist-packages (from requests<3.0.0,>=2.13.0->spacy>=2.2.2->en_core_web_sm==2.2.5) (2.10)\n",
            "Requirement already satisfied: importlib-metadata>=0.20; python_version < \"3.8\" in /usr/local/lib/python3.6/dist-packages (from catalogue<1.1.0,>=0.0.7->spacy>=2.2.2->en_core_web_sm==2.2.5) (3.1.1)\n",
            "Requirement already satisfied: zipp>=0.5 in /usr/local/lib/python3.6/dist-packages (from importlib-metadata>=0.20; python_version < \"3.8\"->catalogue<1.1.0,>=0.0.7->spacy>=2.2.2->en_core_web_sm==2.2.5) (3.4.0)\n",
            "\u001b[38;5;2m✔ Download and installation successful\u001b[0m\n",
            "You can now load the model via spacy.load('en_core_web_sm')\n",
            "\u001b[38;5;2m✔ Linking successful\u001b[0m\n",
            "/usr/local/lib/python3.6/dist-packages/en_core_web_sm -->\n",
            "/usr/local/lib/python3.6/dist-packages/spacy/data/en\n",
            "You can now load the model via spacy.load('en')\n"
          ],
          "name": "stdout"
        }
      ]
    },
    {
      "cell_type": "code",
      "metadata": {
        "id": "pTDxzj7382w5",
        "colab": {
          "base_uri": "https://localhost:8080/"
        },
        "outputId": "8f6a7859-9f47-462e-ce27-d8d8c9aaa733"
      },
      "source": [
        "from google.colab import drive\n",
        "drive.mount('drive')"
      ],
      "execution_count": null,
      "outputs": [
        {
          "output_type": "stream",
          "text": [
            "Mounted at drive\n"
          ],
          "name": "stdout"
        }
      ]
    },
    {
      "cell_type": "markdown",
      "metadata": {
        "id": "PTaRgbXdr7XO"
      },
      "source": [
        "##Download Data"
      ]
    },
    {
      "cell_type": "code",
      "metadata": {
        "id": "YHbiJvM0r74p",
        "colab": {
          "base_uri": "https://localhost:8080/",
          "height": 204
        },
        "outputId": "34d15349-4086-489f-8bab-6c512d8574ab"
      },
      "source": [
        "#Training Data\n",
        "df = pd.read_csv(\"https://raw.githubusercontent.com/inessa3/DMML2020_Tesla/main/data/training_data.csv\")\n",
        "df.head()"
      ],
      "execution_count": null,
      "outputs": [
        {
          "output_type": "execute_result",
          "data": {
            "text/html": [
              "<div>\n",
              "<style scoped>\n",
              "    .dataframe tbody tr th:only-of-type {\n",
              "        vertical-align: middle;\n",
              "    }\n",
              "\n",
              "    .dataframe tbody tr th {\n",
              "        vertical-align: top;\n",
              "    }\n",
              "\n",
              "    .dataframe thead th {\n",
              "        text-align: right;\n",
              "    }\n",
              "</style>\n",
              "<table border=\"1\" class=\"dataframe\">\n",
              "  <thead>\n",
              "    <tr style=\"text-align: right;\">\n",
              "      <th></th>\n",
              "      <th>id</th>\n",
              "      <th>keyword</th>\n",
              "      <th>location</th>\n",
              "      <th>text</th>\n",
              "      <th>target</th>\n",
              "    </tr>\n",
              "  </thead>\n",
              "  <tbody>\n",
              "    <tr>\n",
              "      <th>0</th>\n",
              "      <td>3738</td>\n",
              "      <td>destroyed</td>\n",
              "      <td>USA</td>\n",
              "      <td>Black Eye 9: A space battle occurred at Star O...</td>\n",
              "      <td>0</td>\n",
              "    </tr>\n",
              "    <tr>\n",
              "      <th>1</th>\n",
              "      <td>853</td>\n",
              "      <td>bioterror</td>\n",
              "      <td>NaN</td>\n",
              "      <td>#world FedEx no longer to transport bioterror ...</td>\n",
              "      <td>0</td>\n",
              "    </tr>\n",
              "    <tr>\n",
              "      <th>2</th>\n",
              "      <td>10540</td>\n",
              "      <td>windstorm</td>\n",
              "      <td>Palm Beach County, FL</td>\n",
              "      <td>Reality Training: Train falls off elevated tra...</td>\n",
              "      <td>1</td>\n",
              "    </tr>\n",
              "    <tr>\n",
              "      <th>3</th>\n",
              "      <td>5988</td>\n",
              "      <td>hazardous</td>\n",
              "      <td>USA</td>\n",
              "      <td>#Taiwan Grace: expect that large rocks trees m...</td>\n",
              "      <td>1</td>\n",
              "    </tr>\n",
              "    <tr>\n",
              "      <th>4</th>\n",
              "      <td>6328</td>\n",
              "      <td>hostage</td>\n",
              "      <td>Australia</td>\n",
              "      <td>New ISIS Video: ISIS Threatens to Behead Croat...</td>\n",
              "      <td>1</td>\n",
              "    </tr>\n",
              "  </tbody>\n",
              "</table>\n",
              "</div>"
            ],
            "text/plain": [
              "      id    keyword  ...                                               text target\n",
              "0   3738  destroyed  ...  Black Eye 9: A space battle occurred at Star O...      0\n",
              "1    853  bioterror  ...  #world FedEx no longer to transport bioterror ...      0\n",
              "2  10540  windstorm  ...  Reality Training: Train falls off elevated tra...      1\n",
              "3   5988  hazardous  ...  #Taiwan Grace: expect that large rocks trees m...      1\n",
              "4   6328    hostage  ...  New ISIS Video: ISIS Threatens to Behead Croat...      1\n",
              "\n",
              "[5 rows x 5 columns]"
            ]
          },
          "metadata": {
            "tags": []
          },
          "execution_count": 6
        }
      ]
    },
    {
      "cell_type": "code",
      "metadata": {
        "id": "zfyCyjhAsOY_",
        "colab": {
          "base_uri": "https://localhost:8080/",
          "height": 204
        },
        "outputId": "aa67deb0-bd24-4291-8690-0eb756804960"
      },
      "source": [
        "#Test Data\n",
        "df_test_data = pd.read_csv(\"https://raw.githubusercontent.com/inessa3/DMML2020_Tesla/main/data/test_data.csv\")\n",
        "df_test_data.head()"
      ],
      "execution_count": null,
      "outputs": [
        {
          "output_type": "execute_result",
          "data": {
            "text/html": [
              "<div>\n",
              "<style scoped>\n",
              "    .dataframe tbody tr th:only-of-type {\n",
              "        vertical-align: middle;\n",
              "    }\n",
              "\n",
              "    .dataframe tbody tr th {\n",
              "        vertical-align: top;\n",
              "    }\n",
              "\n",
              "    .dataframe thead th {\n",
              "        text-align: right;\n",
              "    }\n",
              "</style>\n",
              "<table border=\"1\" class=\"dataframe\">\n",
              "  <thead>\n",
              "    <tr style=\"text-align: right;\">\n",
              "      <th></th>\n",
              "      <th>id</th>\n",
              "      <th>keyword</th>\n",
              "      <th>location</th>\n",
              "      <th>text</th>\n",
              "    </tr>\n",
              "  </thead>\n",
              "  <tbody>\n",
              "    <tr>\n",
              "      <th>0</th>\n",
              "      <td>9972</td>\n",
              "      <td>tsunami</td>\n",
              "      <td>NaN</td>\n",
              "      <td>Crptotech tsunami and banks.\\n http://t.co/KHz...</td>\n",
              "    </tr>\n",
              "    <tr>\n",
              "      <th>1</th>\n",
              "      <td>9865</td>\n",
              "      <td>traumatised</td>\n",
              "      <td>Portsmouth, UK</td>\n",
              "      <td>I'm that traumatised that I can't even spell p...</td>\n",
              "    </tr>\n",
              "    <tr>\n",
              "      <th>2</th>\n",
              "      <td>1937</td>\n",
              "      <td>burning%20buildings</td>\n",
              "      <td>NaN</td>\n",
              "      <td>@foxnewsvideo @AIIAmericanGirI @ANHQDC So ... ...</td>\n",
              "    </tr>\n",
              "    <tr>\n",
              "      <th>3</th>\n",
              "      <td>3560</td>\n",
              "      <td>desolate</td>\n",
              "      <td>NaN</td>\n",
              "      <td>Me watching Law &amp;amp; Order (IB: @sauldale305)...</td>\n",
              "    </tr>\n",
              "    <tr>\n",
              "      <th>4</th>\n",
              "      <td>2731</td>\n",
              "      <td>crushed</td>\n",
              "      <td>bahstun/porta reeko</td>\n",
              "      <td>Papi absolutely crushed that ball</td>\n",
              "    </tr>\n",
              "  </tbody>\n",
              "</table>\n",
              "</div>"
            ],
            "text/plain": [
              "     id  ...                                               text\n",
              "0  9972  ...  Crptotech tsunami and banks.\\n http://t.co/KHz...\n",
              "1  9865  ...  I'm that traumatised that I can't even spell p...\n",
              "2  1937  ...  @foxnewsvideo @AIIAmericanGirI @ANHQDC So ... ...\n",
              "3  3560  ...  Me watching Law &amp; Order (IB: @sauldale305)...\n",
              "4  2731  ...                  Papi absolutely crushed that ball\n",
              "\n",
              "[5 rows x 4 columns]"
            ]
          },
          "metadata": {
            "tags": []
          },
          "execution_count": 7
        }
      ]
    },
    {
      "cell_type": "markdown",
      "metadata": {
        "id": "tQAa0Z_YsZTY"
      },
      "source": [
        "#1.Cleaning the (training) dataset\n",
        "To clean the dataset we are going to use  SpaCy"
      ]
    },
    {
      "cell_type": "markdown",
      "metadata": {
        "id": "IyjR3CYOsqhD"
      },
      "source": [
        "##1.Remove the duplicates"
      ]
    },
    {
      "cell_type": "code",
      "metadata": {
        "id": "HO8zP5nisrGB",
        "colab": {
          "base_uri": "https://localhost:8080/",
          "height": 419
        },
        "outputId": "28866e46-c235-47e4-a10f-bca58306f2a5"
      },
      "source": [
        "df_duplicated_free=df.drop_duplicates(subset='text', keep='first')\n",
        "df_duplicated_free"
      ],
      "execution_count": null,
      "outputs": [
        {
          "output_type": "execute_result",
          "data": {
            "text/html": [
              "<div>\n",
              "<style scoped>\n",
              "    .dataframe tbody tr th:only-of-type {\n",
              "        vertical-align: middle;\n",
              "    }\n",
              "\n",
              "    .dataframe tbody tr th {\n",
              "        vertical-align: top;\n",
              "    }\n",
              "\n",
              "    .dataframe thead th {\n",
              "        text-align: right;\n",
              "    }\n",
              "</style>\n",
              "<table border=\"1\" class=\"dataframe\">\n",
              "  <thead>\n",
              "    <tr style=\"text-align: right;\">\n",
              "      <th></th>\n",
              "      <th>id</th>\n",
              "      <th>keyword</th>\n",
              "      <th>location</th>\n",
              "      <th>text</th>\n",
              "      <th>target</th>\n",
              "    </tr>\n",
              "  </thead>\n",
              "  <tbody>\n",
              "    <tr>\n",
              "      <th>0</th>\n",
              "      <td>3738</td>\n",
              "      <td>destroyed</td>\n",
              "      <td>USA</td>\n",
              "      <td>Black Eye 9: A space battle occurred at Star O...</td>\n",
              "      <td>0</td>\n",
              "    </tr>\n",
              "    <tr>\n",
              "      <th>1</th>\n",
              "      <td>853</td>\n",
              "      <td>bioterror</td>\n",
              "      <td>NaN</td>\n",
              "      <td>#world FedEx no longer to transport bioterror ...</td>\n",
              "      <td>0</td>\n",
              "    </tr>\n",
              "    <tr>\n",
              "      <th>2</th>\n",
              "      <td>10540</td>\n",
              "      <td>windstorm</td>\n",
              "      <td>Palm Beach County, FL</td>\n",
              "      <td>Reality Training: Train falls off elevated tra...</td>\n",
              "      <td>1</td>\n",
              "    </tr>\n",
              "    <tr>\n",
              "      <th>3</th>\n",
              "      <td>5988</td>\n",
              "      <td>hazardous</td>\n",
              "      <td>USA</td>\n",
              "      <td>#Taiwan Grace: expect that large rocks trees m...</td>\n",
              "      <td>1</td>\n",
              "    </tr>\n",
              "    <tr>\n",
              "      <th>4</th>\n",
              "      <td>6328</td>\n",
              "      <td>hostage</td>\n",
              "      <td>Australia</td>\n",
              "      <td>New ISIS Video: ISIS Threatens to Behead Croat...</td>\n",
              "      <td>1</td>\n",
              "    </tr>\n",
              "    <tr>\n",
              "      <th>...</th>\n",
              "      <td>...</td>\n",
              "      <td>...</td>\n",
              "      <td>...</td>\n",
              "      <td>...</td>\n",
              "      <td>...</td>\n",
              "    </tr>\n",
              "    <tr>\n",
              "      <th>6466</th>\n",
              "      <td>4377</td>\n",
              "      <td>earthquake</td>\n",
              "      <td>ARGENTINA</td>\n",
              "      <td>#Earthquake #Sismo M 1.9 - 15km E of Anchorage...</td>\n",
              "      <td>1</td>\n",
              "    </tr>\n",
              "    <tr>\n",
              "      <th>6467</th>\n",
              "      <td>3408</td>\n",
              "      <td>derail</td>\n",
              "      <td>NaN</td>\n",
              "      <td>@EmiiliexIrwin Totally agree.She is 23 and kno...</td>\n",
              "      <td>0</td>\n",
              "    </tr>\n",
              "    <tr>\n",
              "      <th>6468</th>\n",
              "      <td>9794</td>\n",
              "      <td>trapped</td>\n",
              "      <td>NaN</td>\n",
              "      <td>Hollywood Movie About Trapped Miners Released ...</td>\n",
              "      <td>1</td>\n",
              "    </tr>\n",
              "    <tr>\n",
              "      <th>6469</th>\n",
              "      <td>10344</td>\n",
              "      <td>weapons</td>\n",
              "      <td>Beirut/Toronto</td>\n",
              "      <td>Friendly reminder that the only country to eve...</td>\n",
              "      <td>1</td>\n",
              "    </tr>\n",
              "    <tr>\n",
              "      <th>6470</th>\n",
              "      <td>1779</td>\n",
              "      <td>buildings%20on%20fire</td>\n",
              "      <td>NaN</td>\n",
              "      <td>Buildings are on fire and they have time for a...</td>\n",
              "      <td>1</td>\n",
              "    </tr>\n",
              "  </tbody>\n",
              "</table>\n",
              "<p>6387 rows × 5 columns</p>\n",
              "</div>"
            ],
            "text/plain": [
              "         id  ... target\n",
              "0      3738  ...      0\n",
              "1       853  ...      0\n",
              "2     10540  ...      1\n",
              "3      5988  ...      1\n",
              "4      6328  ...      1\n",
              "...     ...  ...    ...\n",
              "6466   4377  ...      1\n",
              "6467   3408  ...      0\n",
              "6468   9794  ...      1\n",
              "6469  10344  ...      1\n",
              "6470   1779  ...      1\n",
              "\n",
              "[6387 rows x 5 columns]"
            ]
          },
          "metadata": {
            "tags": []
          },
          "execution_count": 8
        }
      ]
    },
    {
      "cell_type": "markdown",
      "metadata": {
        "id": "hGmKZ9P1z3xg"
      },
      "source": [
        "##2.Remove HTML chunks with re.sub\n",
        "\n",
        "![7.png](data:image/png;base64,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)\n",
        "\n",
        "HTML chunks were quite common in these tweets. As they do not contain any information, we removed them."
      ]
    },
    {
      "cell_type": "code",
      "metadata": {
        "id": "1HtOw95asn6g"
      },
      "source": [
        "# Load English language model\n",
        "sp = spacy.load('en_core_web_sm')"
      ],
      "execution_count": null,
      "outputs": []
    },
    {
      "cell_type": "code",
      "metadata": {
        "id": "zfTB6TBF1hgn"
      },
      "source": [
        "def text_preproc(x):\n",
        "  \n",
        "  #x = x.encode('ascii', 'ignore').decode()\n",
        "  # Remove URL\n",
        "  x = re.sub(r'https*\\S+', ' ', str(x))\n",
        "  # Remove mentions\n",
        "  x = re.sub(r'@\\S+', ' ', x)\n",
        "  # Remove Hashtags\n",
        "  x = re.sub(r'#\\S+', ' ', x)\n",
        "  # Remove ticks and the next character\n",
        "  x = re.sub(r'\\'\\w+', '', x)\n",
        "  # Remove numbers\n",
        "  x = re.sub(r'\\w*\\d+\\w*', '', x)\n",
        "  # Replace the over spaces\n",
        "  x = re.sub(r'\\s{2,}', ' ', x)\n",
        "  #lower case letters\n",
        "  x = x.lower()\n",
        "  return x\n"
      ],
      "execution_count": null,
      "outputs": []
    },
    {
      "cell_type": "code",
      "metadata": {
        "id": "AXFFf2qG1lrj"
      },
      "source": [
        "df_duplicated_free=df_duplicated_free.copy()\n",
        "df_duplicated_free.loc[\"text\"]=df_duplicated_free.text.apply(text_preproc)"
      ],
      "execution_count": null,
      "outputs": []
    },
    {
      "cell_type": "code",
      "metadata": {
        "id": "pJbq0RWt1oTA",
        "colab": {
          "base_uri": "https://localhost:8080/"
        },
        "outputId": "f1c7cca6-430b-4b55-9e91-feda3fdcf721"
      },
      "source": [
        "# instantiate \n",
        "from tqdm import tqdm, tqdm_notebook\n",
        "tqdm.pandas(tqdm_notebook)\n",
        "\n",
        "# replace map with progress_map\n",
        "# where df is a pandas dataframe\n",
        "df_duplicated_free['text'] = df_duplicated_free['text'].progress_map(text_preproc)"
      ],
      "execution_count": null,
      "outputs": [
        {
          "output_type": "stream",
          "text": [
            "100%|██████████| 6388/6388 [00:00<00:00, 45050.60it/s]\n"
          ],
          "name": "stderr"
        }
      ]
    },
    {
      "cell_type": "code",
      "metadata": {
        "id": "2Iy0Mc3h1qKs"
      },
      "source": [
        "df_duplicated_free.to_csv('cleaned_data.csv')\n",
        "!cp cleaned_data.csv \"drive/My Drive/DM&ML/Colab Notebooks/Project\""
      ],
      "execution_count": null,
      "outputs": []
    },
    {
      "cell_type": "markdown",
      "metadata": {
        "id": "QFlPUTVs1tFt"
      },
      "source": [
        "We have saved the dataset to drive and now, we download the new dataset again. We are going to work on it more."
      ]
    },
    {
      "cell_type": "code",
      "metadata": {
        "id": "SoUvOD5-19ON",
        "colab": {
          "base_uri": "https://localhost:8080/",
          "height": 419
        },
        "outputId": "e0c62e40-73fa-4d15-fe8f-161548a443e1"
      },
      "source": [
        "df = pd.read_csv(\"https://raw.githubusercontent.com/inessa3/DMML2020_Tesla/main/data/cleaned_data.csv\", error_bad_lines=False)\n",
        "df"
      ],
      "execution_count": null,
      "outputs": [
        {
          "output_type": "execute_result",
          "data": {
            "text/html": [
              "<div>\n",
              "<style scoped>\n",
              "    .dataframe tbody tr th:only-of-type {\n",
              "        vertical-align: middle;\n",
              "    }\n",
              "\n",
              "    .dataframe tbody tr th {\n",
              "        vertical-align: top;\n",
              "    }\n",
              "\n",
              "    .dataframe thead th {\n",
              "        text-align: right;\n",
              "    }\n",
              "</style>\n",
              "<table border=\"1\" class=\"dataframe\">\n",
              "  <thead>\n",
              "    <tr style=\"text-align: right;\">\n",
              "      <th></th>\n",
              "      <th>id</th>\n",
              "      <th>keyword</th>\n",
              "      <th>location</th>\n",
              "      <th>text</th>\n",
              "      <th>target</th>\n",
              "    </tr>\n",
              "  </thead>\n",
              "  <tbody>\n",
              "    <tr>\n",
              "      <th>0</th>\n",
              "      <td>3738.0</td>\n",
              "      <td>destroyed</td>\n",
              "      <td>USA</td>\n",
              "      <td>black eye : a space battle occurred at star in...</td>\n",
              "      <td>0.0</td>\n",
              "    </tr>\n",
              "    <tr>\n",
              "      <th>1</th>\n",
              "      <td>853.0</td>\n",
              "      <td>bioterror</td>\n",
              "      <td>NaN</td>\n",
              "      <td>fedex no longer to transport bioterror germs i...</td>\n",
              "      <td>0.0</td>\n",
              "    </tr>\n",
              "    <tr>\n",
              "      <th>2</th>\n",
              "      <td>10540.0</td>\n",
              "      <td>windstorm</td>\n",
              "      <td>Palm Beach County, FL</td>\n",
              "      <td>reality training: train falls off elevated tra...</td>\n",
              "      <td>1.0</td>\n",
              "    </tr>\n",
              "    <tr>\n",
              "      <th>3</th>\n",
              "      <td>5988.0</td>\n",
              "      <td>hazardous</td>\n",
              "      <td>USA</td>\n",
              "      <td>grace: expect that large rocks trees mud unsta...</td>\n",
              "      <td>1.0</td>\n",
              "    </tr>\n",
              "    <tr>\n",
              "      <th>4</th>\n",
              "      <td>6328.0</td>\n",
              "      <td>hostage</td>\n",
              "      <td>Australia</td>\n",
              "      <td>new isis video: isis threatens to behead croat...</td>\n",
              "      <td>1.0</td>\n",
              "    </tr>\n",
              "    <tr>\n",
              "      <th>...</th>\n",
              "      <td>...</td>\n",
              "      <td>...</td>\n",
              "      <td>...</td>\n",
              "      <td>...</td>\n",
              "      <td>...</td>\n",
              "    </tr>\n",
              "    <tr>\n",
              "      <th>6382</th>\n",
              "      <td>4377.0</td>\n",
              "      <td>earthquake</td>\n",
              "      <td>ARGENTINA</td>\n",
              "      <td>m . - e of anchorage alaska: -- :: -- :: -: ...</td>\n",
              "      <td>1.0</td>\n",
              "    </tr>\n",
              "    <tr>\n",
              "      <th>6383</th>\n",
              "      <td>3408.0</td>\n",
              "      <td>derail</td>\n",
              "      <td>NaN</td>\n",
              "      <td>totally agree.she is and know what birth contr...</td>\n",
              "      <td>0.0</td>\n",
              "    </tr>\n",
              "    <tr>\n",
              "      <th>6384</th>\n",
              "      <td>9794.0</td>\n",
              "      <td>trapped</td>\n",
              "      <td>NaN</td>\n",
              "      <td>hollywood movie about trapped miners released ...</td>\n",
              "      <td>1.0</td>\n",
              "    </tr>\n",
              "    <tr>\n",
              "      <th>6385</th>\n",
              "      <td>10344.0</td>\n",
              "      <td>weapons</td>\n",
              "      <td>Beirut/Toronto</td>\n",
              "      <td>friendly reminder that the only country to eve...</td>\n",
              "      <td>1.0</td>\n",
              "    </tr>\n",
              "    <tr>\n",
              "      <th>6386</th>\n",
              "      <td>1779.0</td>\n",
              "      <td>buildings%20on%20fire</td>\n",
              "      <td>NaN</td>\n",
              "      <td>buildings are on fire and they have time for a...</td>\n",
              "      <td>1.0</td>\n",
              "    </tr>\n",
              "  </tbody>\n",
              "</table>\n",
              "<p>6387 rows × 5 columns</p>\n",
              "</div>"
            ],
            "text/plain": [
              "           id  ... target\n",
              "0      3738.0  ...    0.0\n",
              "1       853.0  ...    0.0\n",
              "2     10540.0  ...    1.0\n",
              "3      5988.0  ...    1.0\n",
              "4      6328.0  ...    1.0\n",
              "...       ...  ...    ...\n",
              "6382   4377.0  ...    1.0\n",
              "6383   3408.0  ...    0.0\n",
              "6384   9794.0  ...    1.0\n",
              "6385  10344.0  ...    1.0\n",
              "6386   1779.0  ...    1.0\n",
              "\n",
              "[6387 rows x 5 columns]"
            ]
          },
          "metadata": {
            "tags": []
          },
          "execution_count": 15
        }
      ]
    },
    {
      "cell_type": "markdown",
      "metadata": {
        "id": "oI23E_0r0LT_"
      },
      "source": [
        "##3.Clean the tweets with PorterStemmer\n",
        "\n",
        "![8.png](data:image/png;base64,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)\n",
        "\n",
        "We found many parts in the code needed individual cleaning. One exampel is 2k15 and 2015 which both stand for the same thing. So we cleaned it."
      ]
    },
    {
      "cell_type": "code",
      "metadata": {
        "id": "_byms8Jv2Bt5",
        "colab": {
          "base_uri": "https://localhost:8080/"
        },
        "outputId": "6a17ad0a-8367-4a8e-af8b-b95aacc7b8ab"
      },
      "source": [
        "# Select variables\n",
        "X = df.text\n",
        "y = df.target\n",
        "X_train, X_test, y_train, y_test = train_test_split(X, y, test_size=0.2, random_state=72)\n",
        "X_train"
      ],
      "execution_count": null,
      "outputs": [
        {
          "output_type": "execute_result",
          "data": {
            "text/plain": [
              "2357              various issues fail to derail homes bid\n",
              "5508    baltimore city : i- north at mp . (fort mchenr...\n",
              "5092    i feel your pain. survivors will look back on ...\n",
              "5931           ron &amp; fez - dave high school crush via\n",
              "1537    || so.... i just watched the trailed for the d...\n",
              "                              ...                        \n",
              "2885    . felt remorse for missing pam drowned it with...\n",
              "3941             that always good for a pretty explosion.\n",
              "5166                   hour parade like people collapsed.\n",
              "5907    christian attacked by muslims at the temple mo...\n",
              "4568    catching up on gbbo and omg that girls cake th...\n",
              "Name: text, Length: 5109, dtype: object"
            ]
          },
          "metadata": {
            "tags": []
          },
          "execution_count": 16
        }
      ]
    },
    {
      "cell_type": "code",
      "metadata": {
        "id": "LIdJKHTf2Jiu",
        "colab": {
          "base_uri": "https://localhost:8080/"
        },
        "outputId": "7a04d4bc-92a8-452b-d159-d3f746948171"
      },
      "source": [
        "from nltk.stem import PorterStemmer\n",
        "from nltk.tokenize import word_tokenize\n",
        "nltk.download('stopwords')\n",
        "nltk.download('punkt')\n",
        "from nltk.corpus import stopwords\n",
        "stop_words = stopwords.words('english')\n",
        "\n",
        "def data_cleaner(tweet):\n",
        "    \n",
        "    # remove digits\n",
        "    tweet= re.sub(r\"\\d+\",\"\", tweet)\n",
        "    \n",
        "    \n",
        "    # remove punctuation\n",
        "    tweet = re.sub(r\"[^\\w\\s\\d]\",\"\", tweet)\n",
        "\n",
        "    # remove HTML\n",
        "    tweet = re.sub(r\"&gt;\", \">\", tweet)\n",
        "    tweet = re.sub(r\"&lt;\", \"<\", tweet)\n",
        "    tweet = re.sub(r\"&amp;\", \"&\", tweet)\n",
        "    \n",
        "    # remove stop words\n",
        "    tweet = tweet.split()\n",
        "    tweet = \" \".join([word for word in tweet if not word in stop_words])\n",
        "    \n",
        "    # remove all the rest\n",
        "    tweet = re.sub(r\"'/#\\w+\\s*/'\", \"\", tweet)\n",
        "    tweet = re.sub(r\"\\x89Û_[\\w\\_]+\", \"\", tweet)\n",
        "    tweet = re.sub(r\"\\x89ÛÒ[\\w\\_]+\", \"\", tweet)\n",
        "    tweet = re.sub(r\"\\@[\\w\\_]+\", \"\", tweet)\n",
        "    tweet = re.sub(r\"\\åÊ[\\w\\_]+\", \"\", tweet)\n",
        "    tweet = re.sub(r\"\\åÈ[\\w\\_]+\", \"\", tweet)\n",
        "    tweet = re.sub(r\"(@[A-Za-z0-9]+)|([^0-9A-Za-z \\t])|(\\w+:\\/\\/\\S+)\", \"\", tweet)\n",
        "    tweet = re.sub(r\"\\x89ÛÏWhen\", \"When\", tweet)\n",
        "    tweet = re.sub(r\"\\x89ÛÏ\", \"\", tweet)\n",
        "    tweet = re.sub(r\"China\\x89Ûªs\", \"China's\", tweet)\n",
        "    tweet = re.sub(r\"let\\x89Ûªs\", \"let's\", tweet)\n",
        "    tweet = re.sub(r\"\\x89Û÷\", \"\", tweet)\n",
        "    tweet = re.sub(r\"\\x89Ûª\", \"\", tweet)\n",
        "    tweet = re.sub(r\"\\x89Û\\x9d\", \"\", tweet)\n",
        "    tweet = re.sub(r\"å_\", \"\", tweet)\n",
        "    tweet = re.sub(r\"\\x89Û¢\", \"\", tweet)\n",
        "    tweet = re.sub(r\"\\x89Û¢åÊ\", \"\", tweet)\n",
        "    tweet = re.sub(r\"fromåÊwounds\", \"from wounds\", tweet)\n",
        "    tweet = re.sub(r\"åÊ\", \"\", tweet)\n",
        "    tweet = re.sub(r\"åÈ\", \"\", tweet)\n",
        "    tweet = re.sub(r\"JapÌ_n\", \"Japan\", tweet)    \n",
        "    tweet = re.sub(r\"Ì©\", \"e\", tweet)\n",
        "    tweet = re.sub(r\"å¨\", \"\", tweet)\n",
        "    tweet = re.sub(r\"SuruÌ¤\", \"Suruc\", tweet)\n",
        "    tweet = re.sub(r\"åÇ\", \"\", tweet)\n",
        "    \n",
        "\n",
        "    #\\w will match alphanumeric characters and underscores\n",
        "    #[^\\w] will match anything that's not alphanumeric or underscore\n",
        "    tweet = re.sub(r'[^\\w]', ' ', tweet)  \n",
        "    tweet= re.sub(r\"youûªre\", \"you are\", tweet)\n",
        "    tweet = re.sub(r\"û_\", \" \", tweet) \n",
        "    tweet = re.sub(r\"û÷firstûª\", \"first\", tweet) \n",
        "    tweet = re.sub(r\"û÷secondûª\", \"second\", tweet) \n",
        "    tweet = re.sub(r\"reû_\", \" \", tweet) \n",
        "    tweet = re.sub(r'2k15', '2015 ', tweet)  \n",
        "    tweet = re.sub(r\"owenrbroadhurst\", \"owner broad hurst\", tweet) \n",
        "    tweet = re.sub(r\"histû_\", \"history\", tweet) \n",
        "    tweet = re.sub(r\"yrs\", \"years\", tweet) \n",
        "    tweet = re.sub(r\"beû_\", \" \", tweet) \n",
        "    tweet = re.sub(r\"bbcnews\", \"bbc news\", tweet)\n",
        "    tweet = re.sub(r\"û_\", \"\", tweet) \n",
        "    tweet = re.sub(r\"[ ìñ ]\", \" \", tweet)  \n",
        "    tweet = re.sub(r\"^oo^\", \" \", tweet) \n",
        "    tweet = re.sub(r\"-: hs tryout: :-\", \"\", tweet) \n",
        "    tweet = re.sub(r\"answerû_\", \"answer\", tweet) \n",
        "    tweet = re.sub(r\"tbh\", \"to be honest\", tweet) \n",
        "    tweet = re.sub(r\"swea\", \"swear\", tweet) \n",
        "    tweet = re.sub(r\"\trt \", \"retweet\", tweet)\n",
        "    tweet = re.sub(r\"yessum\", \"yes I am\", tweet) \n",
        "    tweet = re.sub(r\"epicente\", \"epicenter\", tweet)\n",
        "    tweet = re.sub(r\"nw \", \"new\", tweet) \n",
        "    tweet = re.sub(r\" heûªs\", \"he is\", tweet) \n",
        "    tweet = re.sub(r\"ûïsippinûª\", \"spinning\", tweet) \n",
        "    tweet = re.sub(r\"yall\", \"you all\", tweet) \n",
        "    tweet = re.sub(r\"ppl\", \"people\", tweet) \n",
        "    tweet = re.sub(r\"sometimesi\", \"sometimes\", tweet) \n",
        "    tweet = re.sub(r\"chinaûªs\", \"China\", tweet) \n",
        "    tweet = re.sub(r\"todayûªs \", \"today's\", tweet) \n",
        "    tweet = re.sub(r\"newû_\", \"new\", tweet) \n",
        "    tweet = re.sub(r\"theyûªd\", \"they\", tweet) \n",
        "    tweet = re.sub(r\"davidû_\", \"David\", tweet) \n",
        "    tweet = re.sub(r\"buildingsûówe\", \"buldings\", tweet)\n",
        "    tweet = re.sub(r\"offensiveû_\", \"offensive\", tweet) \n",
        "    tweet = re.sub(r\"bloodûª\", \"blood\", tweet) \n",
        "    tweet = re.sub(r\"bc\", \"because\", tweet) \n",
        "    tweet = re.sub(r\"tabû_\", \"tablet\", tweet) \n",
        "    tweet = re.sub(r\"bagsûª\", \"bags\", tweet) \n",
        "    tweet = re.sub(r\"û÷body\", \"body\", tweet)\n",
        "    tweet = re.sub(r\"byû_\", \"by\", tweet) \n",
        "    tweet = re.sub(r\"decisionû_\", \"decision\", tweet) \n",
        "    tweet = re.sub(r\"canûªt \", \"can't\", tweet) \n",
        "    tweet = re.sub(r\"australiaûªs \", \"Australia's\", tweet) \n",
        "    tweet = re.sub(r\"didn\", \"didn't\", tweet) \n",
        "    tweet = re.sub(r\"hiûótech\", \"high tech\", tweet) \n",
        "    tweet = re.sub(r\"w/\", \"with\", tweet)\n",
        "    tweet = re.sub(r\"hollyw...\", \"Hollywood\", tweet)\n",
        "    tweet = re.sub(r\"rt\", \"\", tweet)\n",
        "    # Tokenize\n",
        "    tweet = word_tokenize(tweet)\n",
        "    \n",
        "    # Stemming\n",
        "    ps = PorterStemmer()\n",
        "    tweet = [ps.stem(word) for word in tweet]\n",
        "    \n",
        "    return tweet"
      ],
      "execution_count": null,
      "outputs": [
        {
          "output_type": "stream",
          "text": [
            "[nltk_data] Downloading package stopwords to /root/nltk_data...\n",
            "[nltk_data]   Unzipping corpora/stopwords.zip.\n",
            "[nltk_data] Downloading package punkt to /root/nltk_data...\n",
            "[nltk_data]   Unzipping tokenizers/punkt.zip.\n"
          ],
          "name": "stdout"
        }
      ]
    },
    {
      "cell_type": "code",
      "metadata": {
        "id": "Wz0_zHh02gQb",
        "colab": {
          "base_uri": "https://localhost:8080/",
          "height": 37
        },
        "outputId": "4b172aa5-8d25-4d73-80d6-fadc992c6f63"
      },
      "source": [
        "example = df[\"text\"].sample()\n",
        "example.values[0]"
      ],
      "execution_count": null,
      "outputs": [
        {
          "output_type": "execute_result",
          "data": {
            "application/vnd.google.colaboratory.intrinsic+json": {
              "type": "string"
            },
            "text/plain": [
              "'people like you should be charged after the inevitable rioting for contributing to it with your lies'"
            ]
          },
          "metadata": {
            "tags": []
          },
          "execution_count": 18
        }
      ]
    },
    {
      "cell_type": "code",
      "metadata": {
        "id": "lCu-so8I2ib5",
        "colab": {
          "base_uri": "https://localhost:8080/"
        },
        "outputId": "8a32303b-d4bf-4198-8535-4b34e1f19617"
      },
      "source": [
        "data_cleaner(example.values[0])"
      ],
      "execution_count": null,
      "outputs": [
        {
          "output_type": "execute_result",
          "data": {
            "text/plain": [
              "['peopl', 'like', 'charg', 'inevit', 'riot', 'contribut', 'lie']"
            ]
          },
          "metadata": {
            "tags": []
          },
          "execution_count": 19
        }
      ]
    },
    {
      "cell_type": "code",
      "metadata": {
        "id": "Boyry8Ch6d96"
      },
      "source": [
        "def configs():\n",
        "\n",
        "    models = list()\n",
        "    \n",
        "    # Define config lists\n",
        "    ngram_range = [(1,1), (1,2), (1, 3), (2, 2), (2, 3), (3, 3)]\n",
        "    min_df = [1]\n",
        "    max_df = [1.0]\n",
        "    analyzer=['word', 'char']\n",
        "    \n",
        "    # Create config instances\n",
        "    for n in ngram_range:\n",
        "        for i in min_df:\n",
        "            for j in max_df:\n",
        "              for a in analyzer:\n",
        "                    cfg = [n, i, j, a]\n",
        "                    models.append(cfg)\n",
        "    return models\n",
        "configs = configs()"
      ],
      "execution_count": null,
      "outputs": []
    },
    {
      "cell_type": "code",
      "metadata": {
        "id": "hYB_kDJj6gHK"
      },
      "source": [
        "def evaluate(true, pred):\n",
        "    print(f\"CONFUSION MATRIX:\\n{confusion_matrix(true, pred)}\")\n",
        "    print(f\"ACCURACY SCORE:\\n{accuracy_score(true, pred):.4f}\")"
      ],
      "execution_count": null,
      "outputs": []
    },
    {
      "cell_type": "markdown",
      "metadata": {
        "id": "KE-AMvRn1b3h"
      },
      "source": [
        "#2.Predictions"
      ]
    },
    {
      "cell_type": "markdown",
      "metadata": {
        "id": "IQwV-0aZ8WhS"
      },
      "source": [
        "##1.Logistic Regression without Cross-Validation:\n",
        "\n",
        "![4.png](data:image/png;base64,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)"
      ]
    },
    {
      "cell_type": "markdown",
      "metadata": {
        "id": "O3kF2X6S7si7"
      },
      "source": [
        "###1.Find the best parameters"
      ]
    },
    {
      "cell_type": "code",
      "metadata": {
        "id": "k0PqKJ6J6jx4",
        "colab": {
          "base_uri": "https://localhost:8080/"
        },
        "outputId": "16ac1b2a-f620-4b07-b369-c924ab1cbc02"
      },
      "source": [
        "# Define list for result\n",
        "result = []\n",
        "\n",
        "for config in configs:\n",
        "\n",
        "    # Redefine vectorizer\n",
        "    tfidf_vector = TfidfVectorizer(tokenizer=data_cleaner, \n",
        "                                   ngram_range=config[0],\n",
        "                                   min_df=config[1], max_df=config[2], analyzer=config[3])\n",
        "\n",
        "    # Define classifier\n",
        "    classifier = LogisticRegression(solver=\"lbfgs\", max_iter=1000, random_state=72)\n",
        "\n",
        "    # Create pipeline\n",
        "    pipe = Pipeline([('vectorizer', tfidf_vector),\n",
        "                 ('classifier', classifier)])\n",
        "    \n",
        " \n",
        "    # Fit model on training set\n",
        "    pipe.fit(X_train, y_train)\n",
        "\n",
        "    # Predictions\n",
        "    y_pred = pipe.predict(X_test)\n",
        "\n",
        "    # Print accuracy on test set\n",
        "    print(\"CONFIG: \", config)\n",
        "    evaluate(y_test, y_pred)\n",
        "    print(\"-----------------------\")\n",
        "\n",
        "    # Append to result\n",
        "    result.append([config, accuracy_score(y_test, y_pred)])\n",
        "\n",
        "# Evaluation - training set\n",
        "evaluate(y_train,pipe.predict(X_train))"
      ],
      "execution_count": null,
      "outputs": [
        {
          "output_type": "stream",
          "text": [
            "CONFIG:  [(1, 1), 1, 1.0, 'word']\n",
            "CONFUSION MATRIX:\n",
            "[[663  99]\n",
            " [170 346]]\n",
            "ACCURACY SCORE:\n",
            "0.7895\n",
            "-----------------------\n",
            "CONFIG:  [(1, 1), 1, 1.0, 'char']\n",
            "CONFUSION MATRIX:\n",
            "[[612 150]\n",
            " [234 282]]\n",
            "ACCURACY SCORE:\n",
            "0.6995\n",
            "-----------------------\n",
            "CONFIG:  [(1, 2), 1, 1.0, 'word']\n",
            "CONFUSION MATRIX:\n",
            "[[669  93]\n",
            " [168 348]]\n",
            "ACCURACY SCORE:\n",
            "0.7958\n",
            "-----------------------\n",
            "CONFIG:  [(1, 2), 1, 1.0, 'char']\n",
            "CONFUSION MATRIX:\n",
            "[[624 138]\n",
            " [175 341]]\n",
            "ACCURACY SCORE:\n",
            "0.7551\n",
            "-----------------------\n",
            "CONFIG:  [(1, 3), 1, 1.0, 'word']\n",
            "CONFUSION MATRIX:\n",
            "[[671  91]\n",
            " [172 344]]\n",
            "ACCURACY SCORE:\n",
            "0.7942\n",
            "-----------------------\n",
            "CONFIG:  [(1, 3), 1, 1.0, 'char']\n",
            "CONFUSION MATRIX:\n",
            "[[648 114]\n",
            " [160 356]]\n",
            "ACCURACY SCORE:\n",
            "0.7856\n",
            "-----------------------\n",
            "CONFIG:  [(2, 2), 1, 1.0, 'word']\n",
            "CONFUSION MATRIX:\n",
            "[[724  38]\n",
            " [287 229]]\n",
            "ACCURACY SCORE:\n",
            "0.7457\n",
            "-----------------------\n",
            "CONFIG:  [(2, 2), 1, 1.0, 'char']\n",
            "CONFUSION MATRIX:\n",
            "[[615 147]\n",
            " [175 341]]\n",
            "ACCURACY SCORE:\n",
            "0.7480\n",
            "-----------------------\n",
            "CONFIG:  [(2, 3), 1, 1.0, 'word']\n",
            "CONFUSION MATRIX:\n",
            "[[735  27]\n",
            " [301 215]]\n",
            "ACCURACY SCORE:\n",
            "0.7433\n",
            "-----------------------\n",
            "CONFIG:  [(2, 3), 1, 1.0, 'char']\n",
            "CONFUSION MATRIX:\n",
            "[[649 113]\n",
            " [160 356]]\n",
            "ACCURACY SCORE:\n",
            "0.7864\n",
            "-----------------------\n",
            "CONFIG:  [(3, 3), 1, 1.0, 'word']\n",
            "CONFUSION MATRIX:\n",
            "[[752  10]\n",
            " [366 150]]\n",
            "ACCURACY SCORE:\n",
            "0.7058\n",
            "-----------------------\n",
            "CONFIG:  [(3, 3), 1, 1.0, 'char']\n",
            "CONFUSION MATRIX:\n",
            "[[660 102]\n",
            " [162 354]]\n",
            "ACCURACY SCORE:\n",
            "0.7934\n",
            "-----------------------\n",
            "CONFUSION MATRIX:\n",
            "[[2750  164]\n",
            " [ 543 1652]]\n",
            "ACCURACY SCORE:\n",
            "0.8616\n"
          ],
          "name": "stdout"
        }
      ]
    },
    {
      "cell_type": "markdown",
      "metadata": {
        "id": "50W1idsk7mLs"
      },
      "source": [
        "### 2.Prediction"
      ]
    },
    {
      "cell_type": "code",
      "metadata": {
        "id": "J2vI-6zx6nbz",
        "colab": {
          "base_uri": "https://localhost:8080/"
        },
        "outputId": "1a3e733f-e312-4780-b195-ade28a1e9c9e"
      },
      "source": [
        "# Define vectorizer\n",
        "tfidf_vector = TfidfVectorizer(tokenizer=data_cleaner,ngram_range=(1, 2),\n",
        "                                   min_df=1, max_df=1.0, analyzer= 'word') # we use the above defined tokenizer\n",
        "\n",
        "# Define classifier\n",
        "classifier = LogisticRegression(solver=\"lbfgs\", max_iter=1000, random_state=72)\n",
        "\n",
        "# Create pipeline\n",
        "pipe = Pipeline([('vectorizer', tfidf_vector),\n",
        "                 ('classifier', classifier)])\n",
        "\n",
        "# Fit model on training set\n",
        "pipe.fit(X_train, y_train)"
      ],
      "execution_count": null,
      "outputs": [
        {
          "output_type": "execute_result",
          "data": {
            "text/plain": [
              "Pipeline(memory=None,\n",
              "         steps=[('vectorizer',\n",
              "                 TfidfVectorizer(analyzer='word', binary=False,\n",
              "                                 decode_error='strict',\n",
              "                                 dtype=<class 'numpy.float64'>,\n",
              "                                 encoding='utf-8', input='content',\n",
              "                                 lowercase=True, max_df=1.0, max_features=None,\n",
              "                                 min_df=1, ngram_range=(1, 2), norm='l2',\n",
              "                                 preprocessor=None, smooth_idf=True,\n",
              "                                 stop_words=None, strip_accents=None,\n",
              "                                 sublinear_tf=False,\n",
              "                                 token_patt...\\\\b',\n",
              "                                 tokenizer=<function data_cleaner at 0x7f9bfe4d6f28>,\n",
              "                                 use_idf=True, vocabulary=None)),\n",
              "                ('classifier',\n",
              "                 LogisticRegression(C=1.0, class_weight=None, dual=False,\n",
              "                                    fit_intercept=True, intercept_scaling=1,\n",
              "                                    l1_ratio=None, max_iter=1000,\n",
              "                                    multi_class='auto', n_jobs=None,\n",
              "                                    penalty='l2', random_state=72,\n",
              "                                    solver='lbfgs', tol=0.0001, verbose=0,\n",
              "                                    warm_start=False))],\n",
              "         verbose=False)"
            ]
          },
          "metadata": {
            "tags": []
          },
          "execution_count": 23
        }
      ]
    },
    {
      "cell_type": "code",
      "metadata": {
        "id": "LfnoHGXf6siL",
        "colab": {
          "base_uri": "https://localhost:8080/"
        },
        "outputId": "ea3e813d-805b-454a-c189-b107f5c22a50"
      },
      "source": [
        "print('Train Accuracy: ', round(pipe.score(X_train, y_train), 4))\n",
        "print('Test Accuracy: ', round(pipe.score(X_test, y_test), 4))"
      ],
      "execution_count": null,
      "outputs": [
        {
          "output_type": "stream",
          "text": [
            "Train Accuracy:  0.9029\n",
            "Test Accuracy:  0.7958\n"
          ],
          "name": "stdout"
        }
      ]
    },
    {
      "cell_type": "code",
      "metadata": {
        "id": "0oWr6nPf8phX",
        "colab": {
          "base_uri": "https://localhost:8080/"
        },
        "outputId": "4749651a-a52e-4762-d2dd-fa75513ba08a"
      },
      "source": [
        "y_totest = df_test_data['text']\n",
        "y_totest "
      ],
      "execution_count": null,
      "outputs": [
        {
          "output_type": "execute_result",
          "data": {
            "text/plain": [
              "0       Crptotech tsunami and banks.\\n http://t.co/KHz...\n",
              "1       I'm that traumatised that I can't even spell p...\n",
              "2       @foxnewsvideo @AIIAmericanGirI @ANHQDC So ... ...\n",
              "3       Me watching Law &amp; Order (IB: @sauldale305)...\n",
              "4                       Papi absolutely crushed that ball\n",
              "                              ...                        \n",
              "1137    @ItsQueenBaby I'm at work it's a bunch of ppl ...\n",
              "1138    #?? #?? #??? #??? Suicide bomber kills 15 in S...\n",
              "1139    Eruption of Indonesian volcano sparks transpor...\n",
              "1140    Never let fear get in the way of achieving you...\n",
              "1141    wowo--=== 12000 Nigerian refugees repatriated ...\n",
              "Name: text, Length: 1142, dtype: object"
            ]
          },
          "metadata": {
            "tags": []
          },
          "execution_count": 25
        }
      ]
    },
    {
      "cell_type": "code",
      "metadata": {
        "id": "4VcSLa7l8teh",
        "colab": {
          "base_uri": "https://localhost:8080/",
          "height": 419
        },
        "outputId": "2c8a8344-af32-4f4e-825c-1d4d6b480696"
      },
      "source": [
        "y_5 = df_test_data['text']\n",
        "y_5 = pd.DataFrame()\n",
        "y_5['target'] = pipe.predict(y_totest)\n",
        "y_5"
      ],
      "execution_count": null,
      "outputs": [
        {
          "output_type": "execute_result",
          "data": {
            "text/html": [
              "<div>\n",
              "<style scoped>\n",
              "    .dataframe tbody tr th:only-of-type {\n",
              "        vertical-align: middle;\n",
              "    }\n",
              "\n",
              "    .dataframe tbody tr th {\n",
              "        vertical-align: top;\n",
              "    }\n",
              "\n",
              "    .dataframe thead th {\n",
              "        text-align: right;\n",
              "    }\n",
              "</style>\n",
              "<table border=\"1\" class=\"dataframe\">\n",
              "  <thead>\n",
              "    <tr style=\"text-align: right;\">\n",
              "      <th></th>\n",
              "      <th>target</th>\n",
              "    </tr>\n",
              "  </thead>\n",
              "  <tbody>\n",
              "    <tr>\n",
              "      <th>0</th>\n",
              "      <td>0.0</td>\n",
              "    </tr>\n",
              "    <tr>\n",
              "      <th>1</th>\n",
              "      <td>0.0</td>\n",
              "    </tr>\n",
              "    <tr>\n",
              "      <th>2</th>\n",
              "      <td>1.0</td>\n",
              "    </tr>\n",
              "    <tr>\n",
              "      <th>3</th>\n",
              "      <td>0.0</td>\n",
              "    </tr>\n",
              "    <tr>\n",
              "      <th>4</th>\n",
              "      <td>0.0</td>\n",
              "    </tr>\n",
              "    <tr>\n",
              "      <th>...</th>\n",
              "      <td>...</td>\n",
              "    </tr>\n",
              "    <tr>\n",
              "      <th>1137</th>\n",
              "      <td>1.0</td>\n",
              "    </tr>\n",
              "    <tr>\n",
              "      <th>1138</th>\n",
              "      <td>1.0</td>\n",
              "    </tr>\n",
              "    <tr>\n",
              "      <th>1139</th>\n",
              "      <td>1.0</td>\n",
              "    </tr>\n",
              "    <tr>\n",
              "      <th>1140</th>\n",
              "      <td>0.0</td>\n",
              "    </tr>\n",
              "    <tr>\n",
              "      <th>1141</th>\n",
              "      <td>1.0</td>\n",
              "    </tr>\n",
              "  </tbody>\n",
              "</table>\n",
              "<p>1142 rows × 1 columns</p>\n",
              "</div>"
            ],
            "text/plain": [
              "      target\n",
              "0        0.0\n",
              "1        0.0\n",
              "2        1.0\n",
              "3        0.0\n",
              "4        0.0\n",
              "...      ...\n",
              "1137     1.0\n",
              "1138     1.0\n",
              "1139     1.0\n",
              "1140     0.0\n",
              "1141     1.0\n",
              "\n",
              "[1142 rows x 1 columns]"
            ]
          },
          "metadata": {
            "tags": []
          },
          "execution_count": 26
        }
      ]
    },
    {
      "cell_type": "code",
      "metadata": {
        "id": "OKsNJUoa8xni"
      },
      "source": [
        "y_5.to_csv('y_5.csv')\n",
        "!cp y_5.csv \"drive/My Drive/DM&ML/Colab Notebooks/Project\""
      ],
      "execution_count": null,
      "outputs": []
    },
    {
      "cell_type": "markdown",
      "metadata": {
        "id": "l9kubnEg6oIW"
      },
      "source": [
        "##2.Logistic Regression  with Cross-Validation:"
      ]
    },
    {
      "cell_type": "markdown",
      "metadata": {
        "id": "yb1JLZVh8dLC"
      },
      "source": [
        "###1.We find the best parameters"
      ]
    },
    {
      "cell_type": "code",
      "metadata": {
        "id": "Cl5qe33_7MgW",
        "colab": {
          "base_uri": "https://localhost:8080/"
        },
        "outputId": "f55d4bf3-a7d2-4f7f-e70f-433b3c812f78"
      },
      "source": [
        "# Define list for result\n",
        "result = []\n",
        "\n",
        "for config in configs:\n",
        "\n",
        "    # Redefine vectorizer\n",
        "    tfidf_vector = TfidfVectorizer(tokenizer=data_cleaner, \n",
        "                                   ngram_range=config[0],\n",
        "                                   min_df=config[1], max_df=config[2], analyzer=config[3])\n",
        "\n",
        "    # Define classifier\n",
        "    classifier = LogisticRegressionCV(solver=\"lbfgs\", max_iter=5000, random_state=72)\n",
        "\n",
        "    # Create pipeline\n",
        "    pipe = Pipeline([('vectorizer', tfidf_vector),\n",
        "                 ('classifier', classifier)])\n",
        " \n",
        "    # Fit model on training set\n",
        "    pipe.fit(X_train, y_train)\n",
        "\n",
        "    # Predictions\n",
        "    y_pred = pipe.predict(X_test)\n",
        "\n",
        "    # Print accuracy on test set\n",
        "    print(\"CONFIG: \", config)\n",
        "    evaluate(y_test, y_pred)\n",
        "    print(\"-----------------------\")\n",
        "\n",
        "    # Append to result\n",
        "    result.append([config, accuracy_score(y_test, y_pred)])"
      ],
      "execution_count": null,
      "outputs": [
        {
          "output_type": "stream",
          "text": [
            "CONFIG:  [(1, 1), 1, 1.0, 'word']\n",
            "CONFUSION MATRIX:\n",
            "[[648 114]\n",
            " [157 359]]\n",
            "ACCURACY SCORE:\n",
            "0.7879\n",
            "-----------------------\n",
            "CONFIG:  [(1, 1), 1, 1.0, 'char']\n",
            "CONFUSION MATRIX:\n",
            "[[617 145]\n",
            " [248 268]]\n",
            "ACCURACY SCORE:\n",
            "0.6925\n",
            "-----------------------\n",
            "CONFIG:  [(1, 2), 1, 1.0, 'word']\n",
            "CONFUSION MATRIX:\n",
            "[[646 116]\n",
            " [149 367]]\n",
            "ACCURACY SCORE:\n",
            "0.7926\n",
            "-----------------------\n",
            "CONFIG:  [(1, 2), 1, 1.0, 'char']\n",
            "CONFUSION MATRIX:\n",
            "[[624 138]\n",
            " [173 343]]\n",
            "ACCURACY SCORE:\n",
            "0.7567\n",
            "-----------------------\n",
            "CONFIG:  [(1, 3), 1, 1.0, 'word']\n",
            "CONFUSION MATRIX:\n",
            "[[621 141]\n",
            " [143 373]]\n",
            "ACCURACY SCORE:\n",
            "0.7778\n",
            "-----------------------\n",
            "CONFIG:  [(1, 3), 1, 1.0, 'char']\n",
            "CONFUSION MATRIX:\n",
            "[[644 118]\n",
            " [152 364]]\n",
            "ACCURACY SCORE:\n",
            "0.7887\n",
            "-----------------------\n",
            "CONFIG:  [(2, 2), 1, 1.0, 'word']\n",
            "CONFUSION MATRIX:\n",
            "[[664  98]\n",
            " [231 285]]\n",
            "ACCURACY SCORE:\n",
            "0.7426\n",
            "-----------------------\n",
            "CONFIG:  [(2, 2), 1, 1.0, 'char']\n",
            "CONFUSION MATRIX:\n",
            "[[629 133]\n",
            " [190 326]]\n",
            "ACCURACY SCORE:\n",
            "0.7473\n",
            "-----------------------\n",
            "CONFIG:  [(2, 3), 1, 1.0, 'word']\n",
            "CONFUSION MATRIX:\n",
            "[[667  95]\n",
            " [231 285]]\n",
            "ACCURACY SCORE:\n",
            "0.7449\n",
            "-----------------------\n",
            "CONFIG:  [(2, 3), 1, 1.0, 'char']\n",
            "CONFUSION MATRIX:\n",
            "[[638 124]\n",
            " [150 366]]\n",
            "ACCURACY SCORE:\n",
            "0.7856\n",
            "-----------------------\n",
            "CONFIG:  [(3, 3), 1, 1.0, 'word']\n",
            "CONFUSION MATRIX:\n",
            "[[739  23]\n",
            " [345 171]]\n",
            "ACCURACY SCORE:\n",
            "0.7121\n",
            "-----------------------\n",
            "CONFIG:  [(3, 3), 1, 1.0, 'char']\n",
            "CONFUSION MATRIX:\n",
            "[[638 124]\n",
            " [148 368]]\n",
            "ACCURACY SCORE:\n",
            "0.7872\n",
            "-----------------------\n"
          ],
          "name": "stdout"
        }
      ]
    },
    {
      "cell_type": "markdown",
      "metadata": {
        "id": "D6rUAfEV8BUa"
      },
      "source": [
        "The best parameters are :\n",
        "*   ngram range (1,1)\n",
        "*   min_df = 1\n",
        "*   max_df = 1.0\n",
        "*   analyzer = 'word'"
      ]
    },
    {
      "cell_type": "markdown",
      "metadata": {
        "id": "nx5Unxz21GzI"
      },
      "source": [
        "###2.Prediction"
      ]
    },
    {
      "cell_type": "code",
      "metadata": {
        "id": "vrkDlSsd8B6X",
        "colab": {
          "base_uri": "https://localhost:8080/"
        },
        "outputId": "b3970028-2eab-488c-b6bb-15a5d441a781"
      },
      "source": [
        "# Define vectorizer\n",
        "tfidf_vector = TfidfVectorizer(tokenizer=data_cleaner,ngram_range=(1, 1),\n",
        "                                   min_df=1, max_df=1.0, analyzer= 'word') # we use the above defined tokenizer\n",
        "\n",
        "# Define classifier\n",
        "classifier = LogisticRegressionCV(solver=\"lbfgs\", max_iter=5000, random_state=72)\n",
        "\n",
        "# Create pipeline\n",
        "pipe = Pipeline([('vectorizer', tfidf_vector),\n",
        "                 ('classifier', classifier)])\n",
        "\n",
        "# Fit model on training set\n",
        "pipe.fit(X_train, y_train)"
      ],
      "execution_count": null,
      "outputs": [
        {
          "output_type": "execute_result",
          "data": {
            "text/plain": [
              "Pipeline(memory=None,\n",
              "         steps=[('vectorizer',\n",
              "                 TfidfVectorizer(analyzer='word', binary=False,\n",
              "                                 decode_error='strict',\n",
              "                                 dtype=<class 'numpy.float64'>,\n",
              "                                 encoding='utf-8', input='content',\n",
              "                                 lowercase=True, max_df=1.0, max_features=None,\n",
              "                                 min_df=1, ngram_range=(1, 1), norm='l2',\n",
              "                                 preprocessor=None, smooth_idf=True,\n",
              "                                 stop_words=None, strip_accents=None,\n",
              "                                 sublinear_tf=False,\n",
              "                                 token_patt...\n",
              "                                 tokenizer=<function data_cleaner at 0x7f151d7c1ae8>,\n",
              "                                 use_idf=True, vocabulary=None)),\n",
              "                ('classifier',\n",
              "                 LogisticRegressionCV(Cs=10, class_weight=None, cv=None,\n",
              "                                      dual=False, fit_intercept=True,\n",
              "                                      intercept_scaling=1.0, l1_ratios=None,\n",
              "                                      max_iter=5000, multi_class='auto',\n",
              "                                      n_jobs=None, penalty='l2',\n",
              "                                      random_state=72, refit=True, scoring=None,\n",
              "                                      solver='lbfgs', tol=0.0001, verbose=0))],\n",
              "         verbose=False)"
            ]
          },
          "metadata": {
            "tags": []
          },
          "execution_count": 29
        }
      ]
    },
    {
      "cell_type": "code",
      "metadata": {
        "id": "jV8rJ2gi8HEI",
        "colab": {
          "base_uri": "https://localhost:8080/"
        },
        "outputId": "16b57c18-31f1-4652-b893-b1be1a0f6e22"
      },
      "source": [
        "print('Train Accuracy: ', round(pipe.score(X_train, y_train), 4))\n",
        "print('Test Accuracy: ', round(pipe.score(X_test, y_test), 4))"
      ],
      "execution_count": null,
      "outputs": [
        {
          "output_type": "stream",
          "text": [
            "Train Accuracy:  0.9196\n",
            "Test Accuracy:  0.7879\n"
          ],
          "name": "stdout"
        }
      ]
    },
    {
      "cell_type": "markdown",
      "metadata": {
        "id": "rP9A1QNBdOBB"
      },
      "source": [
        "#Conclusion\n",
        "In this notebook we did additional cleaning by removing duplicates, removing HTML chunks and cleaning with PorterStemmer. We then made predictions without and with cross validation.\n",
        "\n",
        "Unfortunately, we could see that accuracies we get with the 2 above defined classifiers  are much lower than the ones we get with logistic regression.\n",
        "\n",
        "Therefore, we did not submit these results."
      ]
    },
    {
      "cell_type": "markdown",
      "metadata": {
        "id": "FD3IfY4fdo4r"
      },
      "source": [
        "Here are all accuracies until iteration 2:\n",
        "\n",
        "| Model      | Vectorizer | Test Accuracy  | Submission Accuracy  |\n",
        "|----------------------|---------------------|---------|---------------|\n",
        "| Logistic Regression without CV *(max_df=1.0, min_df=1, ngram_range=(1, 1))*  |TF-IDF| 0,8083 |  0,803   |\n",
        "| Logistic Regression with CV *(idem, ngram_range=(1, 1))* |TF-IDF| 0,7895   |NaN  |\n",
        "| Random Forest Classifier|TF-IDF| 0,7973 |NaN |       \n",
        "| **Logistic Regression without CV (idem, ngram_range=(1, 2))**  |**TF-IDF** |**0,8099**  |**0,811**|\n",
        "|----------------------|------------------|---------|---------------|\n",
        "| LR additional cleaning without CV (*idem, ngram_range=(1, 2))* |TF-IDF | 0.7958 |NaN   |\n",
        "| LR additional cleaning with CV *(idem, ngram_range=(1, 1))*  |TF-IDF   | 0.7879 |  NaN |\n"
      ]
    },
    {
      "cell_type": "markdown",
      "metadata": {
        "id": "oD7XxpQYds-j"
      },
      "source": [
        "We have also noticed that since we made additional cleaning, our accuracies have been decreasing. Therefore, we could not manage to beat one of the first score we got."
      ]
    }
  ]
}
