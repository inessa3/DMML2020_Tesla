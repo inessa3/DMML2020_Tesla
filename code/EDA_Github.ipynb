{
  "nbformat": 4,
  "nbformat_minor": 0,
  "metadata": {
    "colab": {
      "name": "EDA_Github.ipynb",
      "provenance": [],
      "collapsed_sections": [],
      "include_colab_link": true
    },
    "kernelspec": {
      "name": "python3",
      "display_name": "Python 3"
    }
  },
  "cells": [
    {
      "cell_type": "markdown",
      "metadata": {
        "id": "view-in-github",
        "colab_type": "text"
      },
      "source": [
        "<a href=\"https://colab.research.google.com/github/inessa3/DMML2020_Tesla/blob/main/EDA_Github.ipynb\" target=\"_parent\"><img src=\"https://colab.research.google.com/assets/colab-badge.svg\" alt=\"Open In Colab\"/></a>"
      ]
    },
    {
      "cell_type": "markdown",
      "metadata": {
        "id": "mmX5m5T2oJ_T"
      },
      "source": [
        "# Project Data Mining\n",
        "_Real or Not? NLP with Disaster Tweets_  \n",
        "\n",
        "\n",
        "###Explanation\n",
        "##### This is our first code where we download data and describe it. To do so, we will also use some visualizations.\n",
        "\n",
        "##### By advancing further in our project, we will make cleaning on the data and use different techniques to make predictions. Those stepns will be presented in different notebooks.\n",
        "\n",
        "###  Plan\n",
        "To start with, we are going to download the datasets and describe it.\n",
        "\n",
        "Afterwards, we are going to do some visualizations to illustate better the information in the datasets we have.\n",
        "\n",
        "The visualisations:\n",
        "* Top 10 keywords\n",
        "* Top 10 keywords (wordcloud)\n",
        "* Top 10 locations\n",
        "* Fake VS Real news\n",
        "* Top 15 words for fake news\n",
        "* Top 15 words for real news\n"
      ]
    },
    {
      "cell_type": "markdown",
      "metadata": {
        "id": "qoYqGI6DSuUT"
      },
      "source": [
        "##1.Downloading data"
      ]
    },
    {
      "cell_type": "code",
      "metadata": {
        "id": "fmvMKVK9JMjM"
      },
      "source": [
        "%matplotlib inline\n",
        "import pandas as pd\n",
        "import numpy as np\n",
        "import matplotlib.pyplot as plt\n",
        "%load_ext autoreload\n",
        "import seaborn as sns\n",
        "sns.set_style(\"white\")"
      ],
      "execution_count": null,
      "outputs": []
    },
    {
      "cell_type": "markdown",
      "metadata": {
        "id": "T077foj2sUBK"
      },
      "source": [
        "####We would like to define the \"Color\" class in order to highlight some important responses we could achieve."
      ]
    },
    {
      "cell_type": "code",
      "metadata": {
        "id": "0-EMDXOaNPE6"
      },
      "source": [
        "# Define a color class to highlight answers\n",
        "class color:\n",
        "    YELLOW = '\\033[93m'\n",
        "    BLUE = '\\033[94m'\n",
        "    RED = '\\033[91m'\n",
        "    BOLD = '\\033[1m'\n",
        "    END = '\\033[0m'"
      ],
      "execution_count": null,
      "outputs": []
    },
    {
      "cell_type": "markdown",
      "metadata": {
        "id": "25BkTutGTn9M"
      },
      "source": [
        "###Training Data"
      ]
    },
    {
      "cell_type": "code",
      "metadata": {
        "id": "TzkbHB1FJe8K",
        "colab": {
          "base_uri": "https://localhost:8080/",
          "height": 204
        },
        "outputId": "221e10c7-dcfd-48bd-cd93-310b88e8caf9"
      },
      "source": [
        "df = pd.read_csv(\"https://raw.githubusercontent.com/inessa3/DMML2020_Tesla/main/data/training_data.csv\")\n",
        "df.head()"
      ],
      "execution_count": null,
      "outputs": [
        {
          "output_type": "execute_result",
          "data": {
            "text/html": [
              "<div>\n",
              "<style scoped>\n",
              "    .dataframe tbody tr th:only-of-type {\n",
              "        vertical-align: middle;\n",
              "    }\n",
              "\n",
              "    .dataframe tbody tr th {\n",
              "        vertical-align: top;\n",
              "    }\n",
              "\n",
              "    .dataframe thead th {\n",
              "        text-align: right;\n",
              "    }\n",
              "</style>\n",
              "<table border=\"1\" class=\"dataframe\">\n",
              "  <thead>\n",
              "    <tr style=\"text-align: right;\">\n",
              "      <th></th>\n",
              "      <th>id</th>\n",
              "      <th>keyword</th>\n",
              "      <th>location</th>\n",
              "      <th>text</th>\n",
              "      <th>target</th>\n",
              "    </tr>\n",
              "  </thead>\n",
              "  <tbody>\n",
              "    <tr>\n",
              "      <th>0</th>\n",
              "      <td>3738</td>\n",
              "      <td>destroyed</td>\n",
              "      <td>USA</td>\n",
              "      <td>Black Eye 9: A space battle occurred at Star O...</td>\n",
              "      <td>0</td>\n",
              "    </tr>\n",
              "    <tr>\n",
              "      <th>1</th>\n",
              "      <td>853</td>\n",
              "      <td>bioterror</td>\n",
              "      <td>NaN</td>\n",
              "      <td>#world FedEx no longer to transport bioterror ...</td>\n",
              "      <td>0</td>\n",
              "    </tr>\n",
              "    <tr>\n",
              "      <th>2</th>\n",
              "      <td>10540</td>\n",
              "      <td>windstorm</td>\n",
              "      <td>Palm Beach County, FL</td>\n",
              "      <td>Reality Training: Train falls off elevated tra...</td>\n",
              "      <td>1</td>\n",
              "    </tr>\n",
              "    <tr>\n",
              "      <th>3</th>\n",
              "      <td>5988</td>\n",
              "      <td>hazardous</td>\n",
              "      <td>USA</td>\n",
              "      <td>#Taiwan Grace: expect that large rocks trees m...</td>\n",
              "      <td>1</td>\n",
              "    </tr>\n",
              "    <tr>\n",
              "      <th>4</th>\n",
              "      <td>6328</td>\n",
              "      <td>hostage</td>\n",
              "      <td>Australia</td>\n",
              "      <td>New ISIS Video: ISIS Threatens to Behead Croat...</td>\n",
              "      <td>1</td>\n",
              "    </tr>\n",
              "  </tbody>\n",
              "</table>\n",
              "</div>"
            ],
            "text/plain": [
              "      id    keyword  ...                                               text target\n",
              "0   3738  destroyed  ...  Black Eye 9: A space battle occurred at Star O...      0\n",
              "1    853  bioterror  ...  #world FedEx no longer to transport bioterror ...      0\n",
              "2  10540  windstorm  ...  Reality Training: Train falls off elevated tra...      1\n",
              "3   5988  hazardous  ...  #Taiwan Grace: expect that large rocks trees m...      1\n",
              "4   6328    hostage  ...  New ISIS Video: ISIS Threatens to Behead Croat...      1\n",
              "\n",
              "[5 rows x 5 columns]"
            ]
          },
          "metadata": {
            "tags": []
          },
          "execution_count": 3
        }
      ]
    },
    {
      "cell_type": "code",
      "metadata": {
        "id": "ykYS2XRJNT_1",
        "colab": {
          "base_uri": "https://localhost:8080/"
        },
        "outputId": "ac4eba8c-29fd-4d01-c5d8-7b082bb24832"
      },
      "source": [
        "print('There are', \n",
        "      color.BOLD + color.RED + str(len(df))+' rows' + color.END, \n",
        "      'and',\n",
        "      color.BOLD + color.BLUE + str(len(df.columns))+' columns' + color.END+ '.')"
      ],
      "execution_count": null,
      "outputs": [
        {
          "output_type": "stream",
          "text": [
            "There are \u001b[1m\u001b[91m6471 rows\u001b[0m and \u001b[1m\u001b[94m5 columns\u001b[0m.\n"
          ],
          "name": "stdout"
        }
      ]
    },
    {
      "cell_type": "code",
      "metadata": {
        "id": "yLoorYmyL2fp",
        "colab": {
          "base_uri": "https://localhost:8080/"
        },
        "outputId": "c7d0059a-ed4f-412d-f778-9d4404f7d486"
      },
      "source": [
        "df.dtypes"
      ],
      "execution_count": null,
      "outputs": [
        {
          "output_type": "execute_result",
          "data": {
            "text/plain": [
              "id           int64\n",
              "keyword     object\n",
              "location    object\n",
              "text        object\n",
              "target       int64\n",
              "dtype: object"
            ]
          },
          "metadata": {
            "tags": []
          },
          "execution_count": 5
        }
      ]
    },
    {
      "cell_type": "markdown",
      "metadata": {
        "id": "RVlSlcTyOC_2"
      },
      "source": [
        "####The base rate\n",
        "#####We should aim to build a classifier which will help us to get a higher score than a base rate.\n"
      ]
    },
    {
      "cell_type": "code",
      "metadata": {
        "colab": {
          "base_uri": "https://localhost:8080/"
        },
        "id": "51HlBuE2ry3h",
        "outputId": "568434cd-aa38-431d-dd3e-d7037658b31a"
      },
      "source": [
        "df[\"target\"].value_counts()"
      ],
      "execution_count": null,
      "outputs": [
        {
          "output_type": "execute_result",
          "data": {
            "text/plain": [
              "0    3701\n",
              "1    2770\n",
              "Name: target, dtype: int64"
            ]
          },
          "metadata": {
            "tags": []
          },
          "execution_count": 13
        }
      ]
    },
    {
      "cell_type": "code",
      "metadata": {
        "id": "SrEngAT7N1In",
        "colab": {
          "base_uri": "https://localhost:8080/"
        },
        "outputId": "b4897701-5592-4209-ae84-3e7012d11beb"
      },
      "source": [
        "print ('The base rate is equal to ' + color.BOLD + color.RED + str(round(df.target.value_counts()[0] / len(df), 4))+ color.END)"
      ],
      "execution_count": null,
      "outputs": [
        {
          "output_type": "stream",
          "text": [
            "The base rate is equal to \u001b[1m\u001b[91m0.5719\u001b[0m\n"
          ],
          "name": "stdout"
        }
      ]
    },
    {
      "cell_type": "markdown",
      "metadata": {
        "id": "T_-pniTZTwJ4"
      },
      "source": [
        "###Test Data"
      ]
    },
    {
      "cell_type": "code",
      "metadata": {
        "colab": {
          "base_uri": "https://localhost:8080/",
          "height": 204
        },
        "id": "weFOLPl0T24w",
        "outputId": "3ab99807-e0a9-4d39-c46a-62a3a940fdfb"
      },
      "source": [
        "df_test_data = pd.read_csv(\"https://raw.githubusercontent.com/inessa3/DMML2020_Tesla/main/data/test_data.csv\")\n",
        "df_test_data.head()"
      ],
      "execution_count": null,
      "outputs": [
        {
          "output_type": "execute_result",
          "data": {
            "text/html": [
              "<div>\n",
              "<style scoped>\n",
              "    .dataframe tbody tr th:only-of-type {\n",
              "        vertical-align: middle;\n",
              "    }\n",
              "\n",
              "    .dataframe tbody tr th {\n",
              "        vertical-align: top;\n",
              "    }\n",
              "\n",
              "    .dataframe thead th {\n",
              "        text-align: right;\n",
              "    }\n",
              "</style>\n",
              "<table border=\"1\" class=\"dataframe\">\n",
              "  <thead>\n",
              "    <tr style=\"text-align: right;\">\n",
              "      <th></th>\n",
              "      <th>id</th>\n",
              "      <th>keyword</th>\n",
              "      <th>location</th>\n",
              "      <th>text</th>\n",
              "    </tr>\n",
              "  </thead>\n",
              "  <tbody>\n",
              "    <tr>\n",
              "      <th>0</th>\n",
              "      <td>9972</td>\n",
              "      <td>tsunami</td>\n",
              "      <td>NaN</td>\n",
              "      <td>Crptotech tsunami and banks.\\n http://t.co/KHz...</td>\n",
              "    </tr>\n",
              "    <tr>\n",
              "      <th>1</th>\n",
              "      <td>9865</td>\n",
              "      <td>traumatised</td>\n",
              "      <td>Portsmouth, UK</td>\n",
              "      <td>I'm that traumatised that I can't even spell p...</td>\n",
              "    </tr>\n",
              "    <tr>\n",
              "      <th>2</th>\n",
              "      <td>1937</td>\n",
              "      <td>burning%20buildings</td>\n",
              "      <td>NaN</td>\n",
              "      <td>@foxnewsvideo @AIIAmericanGirI @ANHQDC So ... ...</td>\n",
              "    </tr>\n",
              "    <tr>\n",
              "      <th>3</th>\n",
              "      <td>3560</td>\n",
              "      <td>desolate</td>\n",
              "      <td>NaN</td>\n",
              "      <td>Me watching Law &amp;amp; Order (IB: @sauldale305)...</td>\n",
              "    </tr>\n",
              "    <tr>\n",
              "      <th>4</th>\n",
              "      <td>2731</td>\n",
              "      <td>crushed</td>\n",
              "      <td>bahstun/porta reeko</td>\n",
              "      <td>Papi absolutely crushed that ball</td>\n",
              "    </tr>\n",
              "  </tbody>\n",
              "</table>\n",
              "</div>"
            ],
            "text/plain": [
              "     id  ...                                               text\n",
              "0  9972  ...  Crptotech tsunami and banks.\\n http://t.co/KHz...\n",
              "1  9865  ...  I'm that traumatised that I can't even spell p...\n",
              "2  1937  ...  @foxnewsvideo @AIIAmericanGirI @ANHQDC So ... ...\n",
              "3  3560  ...  Me watching Law &amp; Order (IB: @sauldale305)...\n",
              "4  2731  ...                  Papi absolutely crushed that ball\n",
              "\n",
              "[5 rows x 4 columns]"
            ]
          },
          "metadata": {
            "tags": []
          },
          "execution_count": 7
        }
      ]
    },
    {
      "cell_type": "code",
      "metadata": {
        "colab": {
          "base_uri": "https://localhost:8080/"
        },
        "id": "-KG9wyQercLP",
        "outputId": "b84a98b9-6fcf-4ac9-d432-977ff8442b78"
      },
      "source": [
        "print('There are', \n",
        "      color.BOLD + color.RED + str(len(df_test_data))+' rows' + color.END, \n",
        "      'and',\n",
        "      color.BOLD + color.BLUE + str(len(df_test_data.columns))+' columns' + color.END+ '.')"
      ],
      "execution_count": null,
      "outputs": [
        {
          "output_type": "stream",
          "text": [
            "There are \u001b[1m\u001b[91m1142 rows\u001b[0m and \u001b[1m\u001b[94m4 columns\u001b[0m.\n"
          ],
          "name": "stdout"
        }
      ]
    },
    {
      "cell_type": "code",
      "metadata": {
        "colab": {
          "base_uri": "https://localhost:8080/"
        },
        "id": "q0ZfqHrgrtOI",
        "outputId": "363b0a10-3689-4fea-d3e9-dbf07156e2d1"
      },
      "source": [
        "df_test_data.dtypes"
      ],
      "execution_count": null,
      "outputs": [
        {
          "output_type": "execute_result",
          "data": {
            "text/plain": [
              "id           int64\n",
              "keyword     object\n",
              "location    object\n",
              "text        object\n",
              "dtype: object"
            ]
          },
          "metadata": {
            "tags": []
          },
          "execution_count": 10
        }
      ]
    },
    {
      "cell_type": "markdown",
      "metadata": {
        "id": "QzSpWWG0d2s-"
      },
      "source": [
        "#2.EDA"
      ]
    },
    {
      "cell_type": "markdown",
      "metadata": {
        "id": "bYwIPCSMmR76"
      },
      "source": [
        "##Visualization 1\n",
        "**Here, we visualize the top 10 keywords:**"
      ]
    },
    {
      "cell_type": "code",
      "metadata": {
        "colab": {
          "base_uri": "https://localhost:8080/"
        },
        "id": "c0o11XkOq8z3",
        "outputId": "e2aafd83-1345-4456-d2cf-cc180dcb21bd"
      },
      "source": [
        "print(\"There are\", \n",
        "      color.BOLD + color.RED +  str(df['keyword'].unique().shape[0]), color.END+ \n",
        "      'different keywords')"
      ],
      "execution_count": null,
      "outputs": [
        {
          "output_type": "stream",
          "text": [
            "There are \u001b[1m\u001b[91m222 \u001b[0mdifferent keywords\n"
          ],
          "name": "stdout"
        }
      ]
    },
    {
      "cell_type": "code",
      "metadata": {
        "colab": {
          "base_uri": "https://localhost:8080/",
          "height": 346
        },
        "id": "y3WzIERMg47I",
        "outputId": "0d7a80a5-d0b4-484c-f9e4-20592cc2425c"
      },
      "source": [
        "eda1 = df[\"keyword\"].value_counts()[:10].plot(kind='barh', figsize=(10,5), colormap='cool', title = 'The top 10 keywords', fontsize = 15)\n",
        "eda1.title.set_size(20)"
      ],
      "execution_count": null,
      "outputs": [
        {
          "output_type": "display_data",
          "data": {
            "image/png": "[encoded data removed]",
            "text/plain": [
              "<Figure size 720x360 with 1 Axes>"
            ]
          },
          "metadata": {
            "tags": [],
            "needs_background": "light"
          }
        }
      ]
    },
    {
      "cell_type": "markdown",
      "metadata": {
        "id": "EQs1rVRzmbr7"
      },
      "source": [
        "## Visualization 2\n",
        "**To see better the most popular words, we would use the *wordcloud* :**"
      ]
    },
    {
      "cell_type": "code",
      "metadata": {
        "colab": {
          "base_uri": "https://localhost:8080/"
        },
        "id": "XghpH4OqhjMf",
        "outputId": "1aa469e0-9a78-43fc-b91f-ce0d8d0708ef"
      },
      "source": [
        "pip install wordcloud"
      ],
      "execution_count": null,
      "outputs": [
        {
          "output_type": "stream",
          "text": [
            "Requirement already satisfied: wordcloud in /usr/local/lib/python3.6/dist-packages (1.5.0)\n",
            "Requirement already satisfied: numpy>=1.6.1 in /usr/local/lib/python3.6/dist-packages (from wordcloud) (1.18.5)\n",
            "Requirement already satisfied: pillow in /usr/local/lib/python3.6/dist-packages (from wordcloud) (7.0.0)\n"
          ],
          "name": "stdout"
        }
      ]
    },
    {
      "cell_type": "code",
      "metadata": {
        "id": "PmtG0LiAiRr2"
      },
      "source": [
        "from wordcloud import WordCloud"
      ],
      "execution_count": null,
      "outputs": []
    },
    {
      "cell_type": "code",
      "metadata": {
        "colab": {
          "base_uri": "https://localhost:8080/"
        },
        "id": "l6hwi6FRh20M",
        "outputId": "28c7ba0a-3700-413c-e31d-ed0cb34e5aa5"
      },
      "source": [
        "keywords=pd.DataFrame()\n",
        "keywords = df[\"keyword\"].value_counts()[:10]\n",
        "keywords "
      ],
      "execution_count": null,
      "outputs": [
        {
          "output_type": "execute_result",
          "data": {
            "text/plain": [
              "deluge        39\n",
              "earthquake    38\n",
              "harm          37\n",
              "collision     37\n",
              "sinking       36\n",
              "collided      36\n",
              "ambulance     36\n",
              "hostages      36\n",
              "fatalities    36\n",
              "siren         36\n",
              "Name: keyword, dtype: int64"
            ]
          },
          "metadata": {
            "tags": []
          },
          "execution_count": 111
        }
      ]
    },
    {
      "cell_type": "code",
      "metadata": {
        "id": "TkDN4e2RmGZS"
      },
      "source": [
        "#Create and generate a word cloud image:\n",
        "eda2 = WordCloud(max_font_size=50, max_words=10, background_color=\"white\").generate(str(keywords))"
      ],
      "execution_count": null,
      "outputs": []
    },
    {
      "cell_type": "code",
      "metadata": {
        "colab": {
          "base_uri": "https://localhost:8080/",
          "height": 198
        },
        "id": "v85mGF4lh-Ay",
        "outputId": "d4e493c4-6c1a-4822-a7cf-f73746062cf4"
      },
      "source": [
        "# Display the generated image:\n",
        "plt.imshow(eda2, interpolation='bilinear')\n",
        "plt.axis(\"off\")\n",
        "plt.show()"
      ],
      "execution_count": null,
      "outputs": [
        {
          "output_type": "display_data",
          "data": {
            "image/png": "[encoded data removed]",
            "text/plain": [
              "<Figure size 432x288 with 1 Axes>"
            ]
          },
          "metadata": {
            "tags": [],
            "needs_background": "light"
          }
        }
      ]
    },
    {
      "cell_type": "markdown",
      "metadata": {
        "id": "nlVCCnpYpeir"
      },
      "source": [
        "##Visualization 3\n",
        "**We visualize the top 10 locations. Yet, we notice that there is a mix of cities and countries:**"
      ]
    },
    {
      "cell_type": "code",
      "metadata": {
        "colab": {
          "base_uri": "https://localhost:8080/"
        },
        "id": "6HS63m-vqqyJ",
        "outputId": "147df597-40de-4182-ba9b-66482991ba0e"
      },
      "source": [
        "df.isnull().sum()"
      ],
      "execution_count": null,
      "outputs": [
        {
          "output_type": "execute_result",
          "data": {
            "text/plain": [
              "id             0\n",
              "keyword       55\n",
              "location    2141\n",
              "text           0\n",
              "target         0\n",
              "dtype: int64"
            ]
          },
          "metadata": {
            "tags": []
          },
          "execution_count": 150
        }
      ]
    },
    {
      "cell_type": "code",
      "metadata": {
        "id": "pw0HzCZRpizK"
      },
      "source": [
        "df.copy\n",
        "df[\"location\"]=df[\"location\"].fillna(0)"
      ],
      "execution_count": null,
      "outputs": []
    },
    {
      "cell_type": "code",
      "metadata": {
        "colab": {
          "base_uri": "https://localhost:8080/"
        },
        "id": "BOffsK8_qhyh",
        "outputId": "ad21f172-053a-472d-b898-f49bf00e6156"
      },
      "source": [
        "print(\"There are\", \n",
        "      color.BOLD + color.RED +  str(df['location'].unique().shape[0]), color.END+ \n",
        "      'different locations')"
      ],
      "execution_count": null,
      "outputs": [
        {
          "output_type": "stream",
          "text": [
            "There are \u001b[1m\u001b[91m2922 \u001b[0mdifferent locations\n"
          ],
          "name": "stdout"
        }
      ]
    },
    {
      "cell_type": "code",
      "metadata": {
        "colab": {
          "base_uri": "https://localhost:8080/"
        },
        "id": "OopnVle1rb8j",
        "outputId": "1dd8ed55-4322-40c6-b3ea-199acc57d5c5"
      },
      "source": [
        "df[\"location\"].value_counts()[:10]"
      ],
      "execution_count": null,
      "outputs": [
        {
          "output_type": "execute_result",
          "data": {
            "text/plain": [
              "0                  2141\n",
              "USA                  91\n",
              "New York             59\n",
              "United States        46\n",
              "London               39\n",
              "Canada               25\n",
              "UK                   24\n",
              "Los Angeles, CA      23\n",
              "Nigeria              22\n",
              "India                21\n",
              "Name: location, dtype: int64"
            ]
          },
          "metadata": {
            "tags": []
          },
          "execution_count": 156
        }
      ]
    },
    {
      "cell_type": "code",
      "metadata": {
        "colab": {
          "base_uri": "https://localhost:8080/",
          "height": 451
        },
        "id": "fS3S43RCzTEP",
        "outputId": "d31d985b-ecd2-4814-9781-7d6d8a65d5e3"
      },
      "source": [
        "eda3 = df[\"location\"].value_counts()[:10].plot(kind='bar', figsize=(10,5), colormap='gist_rainbow', title = 'The top 10 locations', fontsize = 15)\n",
        "eda3.title.set_size(20)"
      ],
      "execution_count": null,
      "outputs": [
        {
          "output_type": "display_data",
          "data": {
            "image/png": "[encoded data removed]",
            "text/plain": [
              "<Figure size 720x360 with 1 Axes>"
            ]
          },
          "metadata": {
            "tags": [],
            "needs_background": "light"
          }
        }
      ]
    },
    {
      "cell_type": "markdown",
      "metadata": {
        "id": "MF06i6ANybzh"
      },
      "source": [
        "##Visualization 4\n",
        "**With this pie chart we can see the distribution of fake and real news:**"
      ]
    },
    {
      "cell_type": "code",
      "metadata": {
        "colab": {
          "base_uri": "https://localhost:8080/",
          "height": 444
        },
        "id": "LtyKYgzDxxUg",
        "outputId": "5db8963b-aa65-42f4-d11e-081019a264ac"
      },
      "source": [
        "eda4=df[\"target\"].value_counts()\n",
        "eda4.plot.pie(labels=['Fake news', 'Real news'], autopct='%.2f', title= \"Fake VS Real news\", fontsize=10, figsize=(7, 7))"
      ],
      "execution_count": null,
      "outputs": [
        {
          "output_type": "execute_result",
          "data": {
            "text/plain": [
              "<matplotlib.axes._subplots.AxesSubplot at 0x7fc30452ae10>"
            ]
          },
          "metadata": {
            "tags": []
          },
          "execution_count": 206
        },
        {
          "output_type": "display_data",
          "data": {
            "image/png": "[encoded data removed]",
            "text/plain": [
              "<Figure size 504x504 with 1 Axes>"
            ]
          },
          "metadata": {
            "tags": []
          }
        }
      ]
    },
    {
      "cell_type": "markdown",
      "metadata": {
        "id": "4bBxD6i5qX2a"
      },
      "source": [
        "##Visualization 5\n"
      ]
    },
    {
      "cell_type": "markdown",
      "metadata": {
        "id": "JlevVyPYAZLA"
      },
      "source": [
        "**Here, we can see the top 15 words for fake news:**\n"
      ]
    },
    {
      "cell_type": "code",
      "metadata": {
        "colab": {
          "base_uri": "https://localhost:8080/",
          "height": 428
        },
        "id": "2cUwayz69VSC",
        "outputId": "1fb90b25-3d30-40c9-8c0d-c38d174cd6fe"
      },
      "source": [
        "df_fake_words = df['keyword'].loc[(df['target'] == 0)].value_counts()\n",
        "df_fake_words_top_15 = df_fake_words[0:15]\n",
        "\n",
        "df_fake_words_top_15.plot.bar(xlabel = 'fakewords', ylabel = 'Number of occurences', title = 'Top 15 words in Fake Tweets from the training data', legend = False, grid = False, figsize=(10, 5), color = 'RED')"
      ],
      "execution_count": null,
      "outputs": [
        {
          "output_type": "execute_result",
          "data": {
            "text/plain": [
              "<matplotlib.axes._subplots.AxesSubplot at 0x7f547e822470>"
            ]
          },
          "metadata": {
            "tags": []
          },
          "execution_count": 13
        },
        {
          "output_type": "display_data",
          "data": {
            "image/png": "[encoded data removed]",
            "text/plain": [
              "<Figure size 720x360 with 1 Axes>"
            ]
          },
          "metadata": {
            "tags": [],
            "needs_background": "light"
          }
        }
      ]
    },
    {
      "cell_type": "markdown",
      "metadata": {
        "id": "x1oBYCz7sqEm"
      },
      "source": [
        "## Visualization 6"
      ]
    },
    {
      "cell_type": "markdown",
      "metadata": {
        "id": "XDCzKjtVsk-e"
      },
      "source": [
        "**Finally, we can see the top 15 words for real news:**"
      ]
    },
    {
      "cell_type": "code",
      "metadata": {
        "colab": {
          "base_uri": "https://localhost:8080/",
          "height": 458
        },
        "id": "-dTQncD8sNDc",
        "outputId": "58962a1f-9184-4532-cb1d-cd9bcf04e180"
      },
      "source": [
        "df_real_words = df['keyword'].loc[(df['target'] == 1)].value_counts()\n",
        "df_real_words_top_15 = df_real_words[0:15]\n",
        "\n",
        "df_real_words_top_15.plot.bar(xlabel = 'real words', ylabel = 'Number of occurences', title = 'Top 15 words in Real Tweets from the training data', legend = False, grid = False, figsize=(10, 5), color = 'Green')"
      ],
      "execution_count": null,
      "outputs": [
        {
          "output_type": "execute_result",
          "data": {
            "text/plain": [
              "<matplotlib.axes._subplots.AxesSubplot at 0x7f73a0b23400>"
            ]
          },
          "metadata": {
            "tags": []
          },
          "execution_count": 16
        },
        {
          "output_type": "display_data",
          "data": {
            "image/png": "[encoded data removed]",
            "text/plain": [
              "<Figure size 720x360 with 1 Axes>"
            ]
          },
          "metadata": {
            "tags": [],
            "needs_background": "light"
          }
        }
      ]
    }
  ]
}
