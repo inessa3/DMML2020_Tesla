{
  "nbformat": 4,
  "nbformat_minor": 0,
  "metadata": {
    "colab": {
      "name": "2 First/Basic cleaning of training data+LR with TFIDF .ipynb",
      "provenance": [],
      "collapsed_sections": [],
      "include_colab_link": true
    },
    "kernelspec": {
      "name": "python3",
      "display_name": "Python 3"
    }
  },
  "cells": [
    {
      "cell_type": "markdown",
      "metadata": {
        "id": "view-in-github",
        "colab_type": "text"
      },
      "source": [
        "<a href=\"https://colab.research.google.com/github/inessa3/DMML2020_Tesla/blob/main/2_First_Basic_cleaning_of_training_data%2BLR_with_TFIDF_.ipynb\" target=\"_parent\"><img src=\"https://colab.research.google.com/assets/colab-badge.svg\" alt=\"Open In Colab\"/></a>"
      ]
    },
    {
      "cell_type": "markdown",
      "metadata": {
        "id": "1Zny7OYj0SKG"
      },
      "source": [
        "<img src='https://upload.wikimedia.org/wikipedia/commons/7/77/Logo_HEC_Lausanne.png' width=\"200\">"
      ]
    },
    {
      "cell_type": "markdown",
      "metadata": {
        "id": "X9E5Mu4ub1PQ"
      },
      "source": [
        "# Explanation\n",
        "This is the second notebook of our project. It deals with data cleaning as well as our first predictions. As we moved along, we made more iterations on data cleaning and predictions. To make our initial results replicable and to not overload single notebooks, we present each iteration in a single notebook. These are \"3 Additional cleaning\", \"4 Improving LR with TFIDF+Other classifier + conclusion\".\n",
        "\n",
        "**Data cleaning**\n",
        "\n",
        "In this notebook, we cleaned the training data. \n",
        "\n",
        "The goal of data cleaning is to improve its quality and to alleviate the predicting power of the data. It is the correction of inaccurate parts in the data and the removal of unnecessary parts which weakens the accuracy. To do so, the data has to be brought into a \"clean\" form which allows the classifier to recognize the patterns in the data.\n",
        "A good example to understand data cleaning is the punctuation that does not give any predicting power. So it can be removed.\n",
        "\n",
        "To clean the data, we did the following:\n",
        "* Removal of duplicate tweets\n",
        "* Removal of stopwords\n",
        "* Removal of punctuation marks\n",
        "* Lemmatization\n",
        "\n",
        "**Test-train split**\n",
        "\n",
        "A train/test split is necessary to verify how good one's predictions are. The data is split into two parts, one part goes into the training set, the remaining part goes into the test set.\n",
        "\n",
        "For the test split, we did the following:\n",
        "* Train/test split 80%-20% for the official training set, so that we could test the accuracy of our own predictions before submitting them.\n",
        "\n",
        "**Prediction** \n",
        "\n",
        "At the end of this notebook, we did our first predictions. \n",
        "\n",
        "We tried several approaches (scores):\n",
        "* Simple logistic regression (0.803)\n",
        "* Best parameter with cross validation (below 0.803)\n",
        "* Random forest (below 0.803)\n",
        "* Best parameter without cross validation (**0.811**)\n",
        "\n",
        "**Outlook**\n",
        "\n",
        "Having done some initial data cleaning and some first regressions, we next tried to improve the model with additional data cleaning and other classifiers.\n",
        "\n",
        "These subsequent iterations can be seen in the following notebooks (\"3 Additional cleaning\", \"4 Improving LR with TFIDF+Other classifiers+ conclusion\")."
      ]
    },
    {
      "cell_type": "markdown",
      "metadata": {
        "id": "_k4slDFcq5r9"
      },
      "source": [
        "##Import Libraries"
      ]
    },
    {
      "cell_type": "code",
      "metadata": {
        "id": "xvlOuBitrCBK"
      },
      "source": [
        "%matplotlib inline\n",
        "import pandas as pd\n",
        "import numpy as np\n",
        "import matplotlib.pyplot as plt\n",
        "%load_ext autoreload\n",
        "import seaborn as sns\n",
        "sns.set_style(\"white\")"
      ],
      "execution_count": null,
      "outputs": []
    },
    {
      "cell_type": "code",
      "metadata": {
        "id": "-qNXzSCmshwn"
      },
      "source": [
        "from sklearn.feature_extraction.text import CountVectorizer,TfidfVectorizer\n",
        "from sklearn.base import TransformerMixin\n",
        "from sklearn.pipeline import Pipeline\n",
        "import spacy\n",
        "import string\n",
        "from spacy.lang.en.stop_words import STOP_WORDS\n",
        "from spacy.lang.en import English\n",
        "from sklearn.model_selection import train_test_split\n",
        "from sklearn.linear_model import LogisticRegression, LogisticRegressionCV\n",
        "from sklearn.metrics import confusion_matrix, accuracy_score, precision_score, recall_score, f1_score"
      ],
      "execution_count": null,
      "outputs": []
    },
    {
      "cell_type": "code",
      "metadata": {
        "id": "fqbRL2Rssk9J",
        "colab": {
          "base_uri": "https://localhost:8080/"
        },
        "outputId": "29b298b6-ff0c-49d0-8cea-4919f22b7daf"
      },
      "source": [
        "!python -m spacy download en"
      ],
      "execution_count": null,
      "outputs": [
        {
          "output_type": "stream",
          "text": [
            "Requirement already satisfied: en_core_web_sm==2.2.5 from https://github.com/explosion/spacy-models/releases/download/en_core_web_sm-2.2.5/en_core_web_sm-2.2.5.tar.gz#egg=en_core_web_sm==2.2.5 in /usr/local/lib/python3.6/dist-packages (2.2.5)\n",
            "Requirement already satisfied: spacy>=2.2.2 in /usr/local/lib/python3.6/dist-packages (from en_core_web_sm==2.2.5) (2.2.4)\n",
            "Requirement already satisfied: numpy>=1.15.0 in /usr/local/lib/python3.6/dist-packages (from spacy>=2.2.2->en_core_web_sm==2.2.5) (1.18.5)\n",
            "Requirement already satisfied: cymem<2.1.0,>=2.0.2 in /usr/local/lib/python3.6/dist-packages (from spacy>=2.2.2->en_core_web_sm==2.2.5) (2.0.5)\n",
            "Requirement already satisfied: tqdm<5.0.0,>=4.38.0 in /usr/local/lib/python3.6/dist-packages (from spacy>=2.2.2->en_core_web_sm==2.2.5) (4.41.1)\n",
            "Requirement already satisfied: setuptools in /usr/local/lib/python3.6/dist-packages (from spacy>=2.2.2->en_core_web_sm==2.2.5) (50.3.2)\n",
            "Requirement already satisfied: preshed<3.1.0,>=3.0.2 in /usr/local/lib/python3.6/dist-packages (from spacy>=2.2.2->en_core_web_sm==2.2.5) (3.0.5)\n",
            "Requirement already satisfied: catalogue<1.1.0,>=0.0.7 in /usr/local/lib/python3.6/dist-packages (from spacy>=2.2.2->en_core_web_sm==2.2.5) (1.0.0)\n",
            "Requirement already satisfied: srsly<1.1.0,>=1.0.2 in /usr/local/lib/python3.6/dist-packages (from spacy>=2.2.2->en_core_web_sm==2.2.5) (1.0.5)\n",
            "Requirement already satisfied: thinc==7.4.0 in /usr/local/lib/python3.6/dist-packages (from spacy>=2.2.2->en_core_web_sm==2.2.5) (7.4.0)\n",
            "Requirement already satisfied: plac<1.2.0,>=0.9.6 in /usr/local/lib/python3.6/dist-packages (from spacy>=2.2.2->en_core_web_sm==2.2.5) (1.1.3)\n",
            "Requirement already satisfied: murmurhash<1.1.0,>=0.28.0 in /usr/local/lib/python3.6/dist-packages (from spacy>=2.2.2->en_core_web_sm==2.2.5) (1.0.5)\n",
            "Requirement already satisfied: blis<0.5.0,>=0.4.0 in /usr/local/lib/python3.6/dist-packages (from spacy>=2.2.2->en_core_web_sm==2.2.5) (0.4.1)\n",
            "Requirement already satisfied: requests<3.0.0,>=2.13.0 in /usr/local/lib/python3.6/dist-packages (from spacy>=2.2.2->en_core_web_sm==2.2.5) (2.23.0)\n",
            "Requirement already satisfied: wasabi<1.1.0,>=0.4.0 in /usr/local/lib/python3.6/dist-packages (from spacy>=2.2.2->en_core_web_sm==2.2.5) (0.8.0)\n",
            "Requirement already satisfied: importlib-metadata>=0.20; python_version < \"3.8\" in /usr/local/lib/python3.6/dist-packages (from catalogue<1.1.0,>=0.0.7->spacy>=2.2.2->en_core_web_sm==2.2.5) (3.1.1)\n",
            "Requirement already satisfied: idna<3,>=2.5 in /usr/local/lib/python3.6/dist-packages (from requests<3.0.0,>=2.13.0->spacy>=2.2.2->en_core_web_sm==2.2.5) (2.10)\n",
            "Requirement already satisfied: certifi>=2017.4.17 in /usr/local/lib/python3.6/dist-packages (from requests<3.0.0,>=2.13.0->spacy>=2.2.2->en_core_web_sm==2.2.5) (2020.12.5)\n",
            "Requirement already satisfied: chardet<4,>=3.0.2 in /usr/local/lib/python3.6/dist-packages (from requests<3.0.0,>=2.13.0->spacy>=2.2.2->en_core_web_sm==2.2.5) (3.0.4)\n",
            "Requirement already satisfied: urllib3!=1.25.0,!=1.25.1,<1.26,>=1.21.1 in /usr/local/lib/python3.6/dist-packages (from requests<3.0.0,>=2.13.0->spacy>=2.2.2->en_core_web_sm==2.2.5) (1.24.3)\n",
            "Requirement already satisfied: zipp>=0.5 in /usr/local/lib/python3.6/dist-packages (from importlib-metadata>=0.20; python_version < \"3.8\"->catalogue<1.1.0,>=0.0.7->spacy>=2.2.2->en_core_web_sm==2.2.5) (3.4.0)\n",
            "\u001b[38;5;2m✔ Download and installation successful\u001b[0m\n",
            "You can now load the model via spacy.load('en_core_web_sm')\n",
            "\u001b[38;5;2m✔ Linking successful\u001b[0m\n",
            "/usr/local/lib/python3.6/dist-packages/en_core_web_sm -->\n",
            "/usr/local/lib/python3.6/dist-packages/spacy/data/en\n",
            "You can now load the model via spacy.load('en')\n"
          ],
          "name": "stdout"
        }
      ]
    },
    {
      "cell_type": "markdown",
      "metadata": {
        "id": "PTaRgbXdr7XO"
      },
      "source": [
        "## Download Data"
      ]
    },
    {
      "cell_type": "code",
      "metadata": {
        "id": "YHbiJvM0r74p",
        "colab": {
          "base_uri": "https://localhost:8080/",
          "height": 204
        },
        "outputId": "5779bd34-9a48-4a54-bf7d-3ea83ee60bc2"
      },
      "source": [
        "# Training Data\n",
        "df = pd.read_csv(\"https://raw.githubusercontent.com/inessa3/DMML2020_Tesla/main/data/training_data.csv\")\n",
        "df.head()"
      ],
      "execution_count": null,
      "outputs": [
        {
          "output_type": "execute_result",
          "data": {
            "text/html": [
              "<div>\n",
              "<style scoped>\n",
              "    .dataframe tbody tr th:only-of-type {\n",
              "        vertical-align: middle;\n",
              "    }\n",
              "\n",
              "    .dataframe tbody tr th {\n",
              "        vertical-align: top;\n",
              "    }\n",
              "\n",
              "    .dataframe thead th {\n",
              "        text-align: right;\n",
              "    }\n",
              "</style>\n",
              "<table border=\"1\" class=\"dataframe\">\n",
              "  <thead>\n",
              "    <tr style=\"text-align: right;\">\n",
              "      <th></th>\n",
              "      <th>id</th>\n",
              "      <th>keyword</th>\n",
              "      <th>location</th>\n",
              "      <th>text</th>\n",
              "      <th>target</th>\n",
              "    </tr>\n",
              "  </thead>\n",
              "  <tbody>\n",
              "    <tr>\n",
              "      <th>0</th>\n",
              "      <td>3738</td>\n",
              "      <td>destroyed</td>\n",
              "      <td>USA</td>\n",
              "      <td>Black Eye 9: A space battle occurred at Star O...</td>\n",
              "      <td>0</td>\n",
              "    </tr>\n",
              "    <tr>\n",
              "      <th>1</th>\n",
              "      <td>853</td>\n",
              "      <td>bioterror</td>\n",
              "      <td>NaN</td>\n",
              "      <td>#world FedEx no longer to transport bioterror ...</td>\n",
              "      <td>0</td>\n",
              "    </tr>\n",
              "    <tr>\n",
              "      <th>2</th>\n",
              "      <td>10540</td>\n",
              "      <td>windstorm</td>\n",
              "      <td>Palm Beach County, FL</td>\n",
              "      <td>Reality Training: Train falls off elevated tra...</td>\n",
              "      <td>1</td>\n",
              "    </tr>\n",
              "    <tr>\n",
              "      <th>3</th>\n",
              "      <td>5988</td>\n",
              "      <td>hazardous</td>\n",
              "      <td>USA</td>\n",
              "      <td>#Taiwan Grace: expect that large rocks trees m...</td>\n",
              "      <td>1</td>\n",
              "    </tr>\n",
              "    <tr>\n",
              "      <th>4</th>\n",
              "      <td>6328</td>\n",
              "      <td>hostage</td>\n",
              "      <td>Australia</td>\n",
              "      <td>New ISIS Video: ISIS Threatens to Behead Croat...</td>\n",
              "      <td>1</td>\n",
              "    </tr>\n",
              "  </tbody>\n",
              "</table>\n",
              "</div>"
            ],
            "text/plain": [
              "      id    keyword  ...                                               text target\n",
              "0   3738  destroyed  ...  Black Eye 9: A space battle occurred at Star O...      0\n",
              "1    853  bioterror  ...  #world FedEx no longer to transport bioterror ...      0\n",
              "2  10540  windstorm  ...  Reality Training: Train falls off elevated tra...      1\n",
              "3   5988  hazardous  ...  #Taiwan Grace: expect that large rocks trees m...      1\n",
              "4   6328    hostage  ...  New ISIS Video: ISIS Threatens to Behead Croat...      1\n",
              "\n",
              "[5 rows x 5 columns]"
            ]
          },
          "metadata": {
            "tags": []
          },
          "execution_count": 4
        }
      ]
    },
    {
      "cell_type": "code",
      "metadata": {
        "id": "zfyCyjhAsOY_",
        "colab": {
          "base_uri": "https://localhost:8080/",
          "height": 204
        },
        "outputId": "b74892ed-5b5e-41fc-ed27-9a71af2238d8"
      },
      "source": [
        "# Test Data\n",
        "df_test_data = pd.read_csv(\"https://raw.githubusercontent.com/inessa3/DMML2020_Tesla/main/data/test_data.csv\")\n",
        "df_test_data.head()"
      ],
      "execution_count": null,
      "outputs": [
        {
          "output_type": "execute_result",
          "data": {
            "text/html": [
              "<div>\n",
              "<style scoped>\n",
              "    .dataframe tbody tr th:only-of-type {\n",
              "        vertical-align: middle;\n",
              "    }\n",
              "\n",
              "    .dataframe tbody tr th {\n",
              "        vertical-align: top;\n",
              "    }\n",
              "\n",
              "    .dataframe thead th {\n",
              "        text-align: right;\n",
              "    }\n",
              "</style>\n",
              "<table border=\"1\" class=\"dataframe\">\n",
              "  <thead>\n",
              "    <tr style=\"text-align: right;\">\n",
              "      <th></th>\n",
              "      <th>id</th>\n",
              "      <th>keyword</th>\n",
              "      <th>location</th>\n",
              "      <th>text</th>\n",
              "    </tr>\n",
              "  </thead>\n",
              "  <tbody>\n",
              "    <tr>\n",
              "      <th>0</th>\n",
              "      <td>9972</td>\n",
              "      <td>tsunami</td>\n",
              "      <td>NaN</td>\n",
              "      <td>Crptotech tsunami and banks.\\n http://t.co/KHz...</td>\n",
              "    </tr>\n",
              "    <tr>\n",
              "      <th>1</th>\n",
              "      <td>9865</td>\n",
              "      <td>traumatised</td>\n",
              "      <td>Portsmouth, UK</td>\n",
              "      <td>I'm that traumatised that I can't even spell p...</td>\n",
              "    </tr>\n",
              "    <tr>\n",
              "      <th>2</th>\n",
              "      <td>1937</td>\n",
              "      <td>burning%20buildings</td>\n",
              "      <td>NaN</td>\n",
              "      <td>@foxnewsvideo @AIIAmericanGirI @ANHQDC So ... ...</td>\n",
              "    </tr>\n",
              "    <tr>\n",
              "      <th>3</th>\n",
              "      <td>3560</td>\n",
              "      <td>desolate</td>\n",
              "      <td>NaN</td>\n",
              "      <td>Me watching Law &amp;amp; Order (IB: @sauldale305)...</td>\n",
              "    </tr>\n",
              "    <tr>\n",
              "      <th>4</th>\n",
              "      <td>2731</td>\n",
              "      <td>crushed</td>\n",
              "      <td>bahstun/porta reeko</td>\n",
              "      <td>Papi absolutely crushed that ball</td>\n",
              "    </tr>\n",
              "  </tbody>\n",
              "</table>\n",
              "</div>"
            ],
            "text/plain": [
              "     id  ...                                               text\n",
              "0  9972  ...  Crptotech tsunami and banks.\\n http://t.co/KHz...\n",
              "1  9865  ...  I'm that traumatised that I can't even spell p...\n",
              "2  1937  ...  @foxnewsvideo @AIIAmericanGirI @ANHQDC So ... ...\n",
              "3  3560  ...  Me watching Law &amp; Order (IB: @sauldale305)...\n",
              "4  2731  ...                  Papi absolutely crushed that ball\n",
              "\n",
              "[5 rows x 4 columns]"
            ]
          },
          "metadata": {
            "tags": []
          },
          "execution_count": 5
        }
      ]
    },
    {
      "cell_type": "markdown",
      "metadata": {
        "id": "tQAa0Z_YsZTY"
      },
      "source": [
        "#1.Cleaning the Training Dataset\n",
        "To clean the dataset we use the SpaCy library and language model."
      ]
    },
    {
      "cell_type": "markdown",
      "metadata": {
        "id": "IyjR3CYOsqhD"
      },
      "source": [
        "##1.1.Remove Duplicates\n",
        "![1.png](data:image/png;base64,iVBORw0KGgoAAAANSUhEUgAAAewAAAEyCAIAAAC3fHRoAAAAA3NCSVQICAjb4U/gAAAAX3pUWHRSYXcgcHJvZmlsZSB0eXBlIEFQUDEAAAiZ40pPzUstykxWKCjKT8vMSeVSAANjEy4TSxNLo0QDAwMLAwgwNDAwNgSSRkC2OVQo0QAFmBqYWZoZmxmaAzGIzwUASLYUyTrUQzIAABi6SURBVHic7d1ZdxzHmaDhWHOrDSBAgJskklqsln2m3d0zP6Dnx8/FePqcHnvcbU9rsUStBLEVUFW5RcRcJIhR95jarHRGcN7ngoe6AT4XiDezotIRMoQgAABpUlMPAAD46Yg4ACSMiANAwog4ACSMiANAwog4ACSMiANAwog4ACSMiANAwog4ACSMiANAwog4ACTMjPR1h321otpdS0o5/CXOqURkgwkhpJTfHg9AhEaJeAghhOC9H/4yxrf4seRL4aWpJxLiW5WMbTAhhJRSay3+/WUGQGzGuhPvuu7q6qppmkjCZK0ty1Ip1fd93/dd1znnph5KaK2NMdZaa633frvddl039VA38jxfLpd5nk89CIDvMkrEpZS73e7Zs2fn5+fee+/9GN/lR5nP50dHR3meb7fbzWYzXGCmHkpkWTabzebz+Wq1atv2q6++urq6mnqoG/v7+0+fPiXiQOTGuhNv2/bs7Ozrr792zsVwJ75araqqcs6t1+vLy8uzs7Pdbjf1UCLP89Vq5Zyz1jZNc3Jycn5+PvVQN7z3Dx8+HH52rKgA0Ror4s65pmm2261zLoY78TzP27Y1xnRdV9f1drvdbrdTDyW898NgwwpPXdebzWbqoW7UdR3DihOA7zbi0ym3S88xRLzrumFhxzk3DBbD6rMxpu/74SXy3kcy1aDv+xjeQgH4bjwnDgAJI+IAkDAiDgAJI+IAkDAiDgAJI+IAkDAiDgAJI+IAkDAiDgAJI+IAkDAiDgAJI+IAkDAiDgAJI+IAkDAiDgAJG2s/cQC3h18Ph4ZPPY4QL8/mVkoJISI5OnEwTPXtE8NjeMXk/2Pqif4MIg6MJYRwewhJJMckSSmNMcPRqXVd930/9UQ3tNZZlg1HmTvnIjnWUUo5nGZujNFaiyiPKiTiwFi8923bXl9fX15exnAw93AvOZvNDg8PQwgnJyfxHAdYFMX+/r7Werfb1XXdNE0MFxhjTFEUw2nmwxuFqSf6M4g4MBbn3GazOTk5+eyzzy4vL6ce5+a+8ujoqCiKEMLHH398cnIy9VA39vb2njx5kuf56enpxcXFer2O4bI3XFru3r2rtbbWxrmiQsSBsQznpm42m7Ozs9PT06nHEUqpYdWibVvv/fn5+fPnz6ce6ob3/vj42Ht/dXV1fn5+fn6+2+2mHkpUVSWlrKoq5iNneToFABJGxAEgYUQcABJGxAEgYUQcABJGxAEgYUQcABJGxAEgYUQcABJGxAEgYUQcABJGxAEgYUQcABJGxAEgYUQcABJGxAEgYUQcABJGxAEgYUQcABJGxAEgYUQcABJGxAEgYUQcABJGxAEgYUQcABJmRvq6Sqksy8qy7Ps+hDDSd/nhiqIwxhhjrLV5nhdFEclUeZ5nWTbMlud5WZZTD3Ujz3OluMYDsRsr4saYxWKx2+289977kb7LD7dcLquqKoqi7/uu6/q+L4pi6qFEnueLxaKqqjzPhRCr1SqGS8tgsVhYa6eeAsD3GCvieZ4fHBxYa733MYSpqqrlcmmt1Vpba8uy7Lpu6qGEMaYsy9lsVlWVtfbo6Gg+n0891I3lcjlcWgDEbKyIl2X58OHDo6OjGAouhNBa53kupVwsFn3fO+dieH8gpdRaD2sp3vuqqpxzUw91Y7jUSSmllFPPAuCVxl1OGemLv67iWRAHkAo+uQKAhI11Jx5CuF0Nj2FFRUo5PGtxO1IkUw1/Dn+J5PODgVJKKcVaChC5sSLuvW+aZljhjSFMw9KzlNJ/y9RD3VxatNZa6xBC13XxrIkbY7Is01rTcSBmY0XcOVfXddM0Io6IW2uLolBK9X0/PGUYQ8SVUsOj68NjPLvdLoZnZgZDwbXWUw8C4LuMFfG+7zebzXa7jaGVQojh0RStddu2TdPUdR3DPa/WOsuy4Yn1vu+vrq6Gy14MhsfqsyybehAA32XE5ZS2beu6jmT1WQjR9/3w59Dx4T+nZYwRL1PunBtesamHujE89Tj87FhRAaLF0ykAkDAiDgAJI+IAkDAiDgAJI+IAkDAiDgAJI+IAkDAiDgAJI+IAkDAiDgAJI+IAkLCx9k4BoJSy1s5ms/39/WE7+2kNe8CtVqssy7z3e3t78eyaube3V5blcHR43/dKqRg2gyuKYrVaVVU1bGQ99Th/HhEHxqK1rqrq8PDQGBPD1mbD8SOz2Ww2m4UQHj9+fPfu3amHulGW5f7+/rCL/Wq1imeLuuEo86Iooj1vlogDY1FK5Xk+/BnD1seDYW/9EMLR0VE8d+Ja6yGUWZbN53PnXAy7nw5ntgyb/sdZcEHEgfEMyxfD0R8xJGkwhEkIUVVVJNv9i5evlRBieK0i2cJaviQi3pCZiANjuf39j/OApBiW6ZMQyRXlVYg4AHyX23vwOG/GiTgwlhDCcCS3cy6ShYvhbO7hSKlITpodDIs8t0eZR3LzO7xct6Ye588j4sBYvPdd1zVNs91uY/gIcVjeGR7jCyGs1+sYHuMbDM9iaq2bpum6LpILjNbaWpvneVEU1loR5c04EQfGEkIYjk7dbreR5FIp5b2vqiqEsNvtttvt1BPdyPN8eHp9OMe8bdsYnucxxtw+MzP1LK9ExIERDSsqfd/Hcyc+PL0XQohkqsFwMPcwnnOu7/sYnhMXQvR9f3tieJyIODCu25XxqQe5ifjtivMw2NRD3bgN5e3LFcNsw4cZMRdcsHcKACSNiANAwog4ACSMiANAwog4ACSMiANAwog4ACSMiANAwog4ACSMiANAwog4ACSMiANAwog4ACSMiANAwog4ACSMiANAwog4ACSMiANAwog4ACSMiANAwog4ACSMiANAwog4ACSMiANAwog4ACTMjPR1tdZ5UTjvQwghjPRNfoQ8z4y1Rhvvgw9BSNn3buqhhNY6y7Isy7UxQsq8KIWM5bKaF4XWWkoppZx6FgCvNFbEjbWL5aqoZlEkfLioZJmS0mRZ7sq+dz74qYcSUiqjlTHaaOODF0o7N/2lZWCNsVlGwYHIjRXxxoWTnb+qnY/jTrzMxF7wVqum83Xnt63r3PQRNzoUVpSZnGW+9+Fs47dtLBFfFOp+JqwRZByI2VgRP920/+2TF386ve598H76it9dFL+8vzfPzemmeX5Vf3O1u677qYcSVW4OZsW9ZfFwr6pb98+fn3293k091I3HB/N/fO94lhkluB0H4jVWxLdN/+nZ5n99edk77yKI+Bt3ZgezYq/KvrzcfX6x/ezF9fm2nXoosSzt/b2u92GW2XXdfnhy9cmL66mHuhFC+M9v3gli+NlRcSBSY0XchdB0btf2fR9FxJu275xvnW96X3du2/a7Zvo7caPkrnON853zvfN1HFMNms55H0Qg4EDUxop4CME53/e+cz6G5ZTeeee9D6EPoXsZzamHEr3zt4M5H3oXYphq0LswNJyMAzGL5YE2AMBPQMQBIGFEHAASRsQBIGFEHAASRsQBIGFEHAASRsQBIGFEHAASRsQBIGFEHAASRsQBIGFEHAASNtYuhkBUghAhhOCDkEL9FQ8OlVIqpbTWxkTxuzYMM/zPj2cqIYTWWiklpdQvTT2REEIYY24Hm3qWV4rlRwiMJ/zfvZGdlMJao/8qv5O3Bc/z/K/w7b7XcOy1tVYpJYSw1kYymBAiy7Kh3caYLMuEEDGcNzsMY4wh4sCUdnV7en51sb6+XG+lkndW873lbLmoityOfFcuhVRCm6CzYOOogJRBZ0KqIIQwWbDT7/U/CMYGpYXSQlthgvAyqOn31g9aB22D0kHIaDfWJ+J4/Z1fXP+P3374+3979snnz5VS7z198MHbD3/57pv37u5Zq8e7Kw9COKE6YWqV1XL6z5+GO3ElrRMqCNHIbBdPlqTphRFCtdI0UtRK9WH6iFuppLRGGC9UiLXiRByvv7brzy6uP/ni+W//9dOu788ur9frzWbbPHnj6PDOcm9Rzaoisz//74ILYdu502337Ly53E1/pquUUkl5uAizsgghfHbRnFzXUw91Y6/MgrKZUaebbr1r13XX9tMvpxRWryp/OBPGGGu0ijLjRByvP2v1ajnbm8+s1WcX1//28Zcnp5f/8tEXT984/vXfvPX+2w+fPDreX81+9nWVtvdn2+bDk6t/+vT0q4vdz/vFfwKlpNby3aPl3XnuffjNpy8+/OZq6qFuPNyvghCz3H704vqLi83Jereppz9vdlHa+3dm79xdlJmpcqODjLDiRByvvzLPHh7f+cXTB+vNrsy/Pru8fv7i8vnp+sXZelc366vdxXr76N7B/mo2nxW5tVr/PEsfvQ/b1p1ummdnm09PNz/L1/xLKCWtVvPc7tre+fDlxe6jk1giHoQ437YuiJNN/fnF9suzzdWum3oosZplQck7VV73LoQQywcI/x4Rx+tvMSvfe3J/b1m9cf/wDx99/k+//+TjZ9+cnV99/fx8t2s+efb80R/+9P6TB3/3q6dvv3l8sL+odCzPbADfi4jjpxue2+t613a9c9N/DPUdpJSrRfXWw0Mf/NWuEVIUmT09vzq73FxebZ+fXp5dXO+a7vzi+o0Hh8eHq73FrCwyraN+QBgQRBx/Ced83XTr6+3pxfW2bqYe53t459veSSnfefN4MSvvHe4/++rFnz5/frHerK+2f/zoi+cvLn73x0/fe3z/g3ff+Nu/efzo3kGRW2Oi+H+dAK9CxPHTOe+3dXN6fvXJ58/P19Ov+f5wRWaWi3J5XVZlfnW92+6a6019en714uxqfb3te7e3mFVFfnhnQcQROSKOn653frtrnp+tP/z0669OLqYe50dwztVtt9nWUghrtHq5ZrKr2y++Pp9V5YPjO8tFOavyqmR9HFEj4vjplJTG6LLIVouq66d/IOyHaLp+t2u3dXOx3lysN3XTOudDCNaaWZmvFtXBncWDo/35rDRGS8WCOGJHxPHTZdYc7C3KPLt/d79pp38g7AcIF1fbz7588b8//vKbk4sXZ1dX17u6bnvnl4vyrYd333/68NcfPH7nrfvHh6v9vfm8KqYeGPgeRBw/ndaq1FlZZAf7i6ln+S7e+653m21zdnndNN36ant2eX1+ubne1CGE5aLaX80e3jt478n9D9559J/ef/zw3p0ityaOjfSA70bE8frrere+3n3y7Plvfvvhv3z0+bMvXzx/cXmx3gghlovq8aOjf/jV0/efPnjj/uHRwWq1rIrcajX9VifAD0HE8frb7prPvjz53R8//c3vPvzjx1+eX1yHIPaW1d2D1aP7B+8/efD3v3r69M3jg71FWWRTDwv8OEQcr7+Lq+3//Nc//ffffvjRp1+fX1xLKe8d7f3tL9764N1H7z158PDenf3VfD7OHljA2PhXi/8PhOB90FotZmVm7cH+4smjo19/8Pj9tx8+fnh3b/nzb30F/NUQcbz+lovql++9WZX5m/cPtdbvvnXv0f2Dw/3l3rKqypyCI2lEHK+/qsjfenB3VhXHh3u5tU/ePD7cn1ujFZ9eIn1EHK+/zJr91WxW5fcOV0qqWZVbo7kBx+uBiOP1d/s8+9SDAD8/3k4CQMKIOAAkjIgDQMKIOAAkjIgDQMKIOAAkjIgDQMKIOAAkjIgDQMKIOAAkjIgDQMLG2jvFKDUr7F6Vdc67EEb6Lj/cosxKawqjK2sWhd2rothGY1HYRWEra3KjCqsXpV3NohhMCDEvrNVKCikFG0UB8Ror4oXVx8vqunV9HBE/XpZ3ZtmisK33PnghxN5s+tPZZ7m5Oy+OFsWysFrJB/szoWIp5r29qsg0O/0BkRsr4rnVR4u8cb733ovpI35Q5XtVVmWmDyGEoKTcdP3UQ4nSmDtVdjDL5rlRSt5bldrEUs2jZVFYLaTgRhyI2VgRz4w6mOcuBBeCj+BOfFXYRWEKq0OwUgijZN27qYcShdGL3O6VWZUZreXxIs+iifjdeZ5bHcs0AF5hrIj3zm/q7mLbOh9CBBGXQdQzJ4Xctm5Td+tdu2unj3httQjCajXLdN279a673LRTD3WjMrp3PnAjDsRtrIivd93vv7r4w1fr3vkY7sTv71VKymWRfbXefbXefnG2udrFsCZuj1blo/2Z82HbdP/82dnn55uph7rx3vHyyZ35vWUpBCEH4jVWxJvenazrZ2ebznnvp4+4FOLi7kJIebZrv1nXn59vY7jnXZTWS1Hl5l5TrHfd15e7z05jifhemdWdCyEEKXhABYgWz4kDQMKIOAAkjIgDQMKIOAAkjIgDQMKIOAAkjIgDQMKIOAAkjIgDQMKIOAAkjIgDQMKIOAAkjIgDQMKIOAAkjIgDQMLG2k8cgNFynpvjRfHO0WKeT/+7pqTUWr11ZzbLTfDhycHMez/1UDce7FV353mVmwfLUoSwzMy2mf7Ylnlh7+1Xx4u8tFrJSI8Nn/4fFvC6Kow+WhSZVseLYtNMfzC3kkJKuSqze4siCPGP7x3/3Rt3ph7qxjw3R8vSaHU4yzfNctf2nZv+ApMZNcvNosz2qyzaihNxYCxaytIoXeqZzvpeTz2OEFJKITJrKquEEI9W2VEVy4KqMbrMtZKy0qYvZO90DO8SlFLWaGt0ZpSO9YArIg6MJQTv+75r6nqzbbvpFwekEFKpkOel1SGIentd183UQ93IsszKmVa6bZq2bbuucxFEXGvts0wWudVK6FgueP8BEQfGEkLw3rm+b5u6aaLIpVJKS+G9DyF0TdPstlNP9JJ3rsiFDn3Xtk3dtq1zbuqZhDFGiWC0Cnke5224IOLAqEII3vu+77sY7sSllFI650IIIYRIphoYY7z3w3jOub7v+376TxGEEH3fD9e8qQd5JSIOjGvoeAwrvEPEhyQNYphqcBvK25crhtmcc5EXXPCcOAAkjYgDQMKIOAAkjIgDQMKIOAAkjIgDQMKIOAAkjIgDQMKIOAAkjIgDQMKIOAAkjIgDQMKIOAAkjIgDQMKIOAAkjIgDQMKIOAAkjIgDQMKIOAAkjIgDQMKIOAAkjIgDQMKIOAAkjIgDQMKIOAAkjIgDQMKIOAAkzIz0dWeZeXwwdz70zvsw0jf5EY6Xxf1lOSusD8FKOTP6uu6mHkpUuTlcFPdX1Z1ZVhr13vFino/1E/mx3r67WBRWSSmFnHoWAK80VjKOFsV//cW9//LWQQghgoaL0uq9WW60etLN6s7Vbd85P/VQwiiVW11mepYb58K9ZbFt+6mHurEo7P1VqaSUNByI2FgRL6x6sDB9KYMIIoKKa62t1VJKb4Xz0jkZIniDIJXUSmmltdEhhJm2zsWywGWMKSwFB2I3VsT7rltfXu52uxDHrXiWZfP5XBvdtW3btk3but5NPZTQWtksy7OsKArn3NXVVdO0Uw91oywLtb+vtSbkQMzGirhzrq7rzWYT4qi4c0WeZyGYtm3ruq7ruuumXxM3xuTOSSGMMX3f73a73W439VC3wnK5HH52dByI1ogfow359n76pWfxchjxraliuLQMY/wHUw91I6phALzKWBH/dpJiaMG3J4kql9+eJJ6pAKQilo/RAAA/AREHgIQRcQBIGBEHgIQRcQBIGBEHgIQRcQBIGBEHgIQRcQBIGBEHgIQRcQBIGBEHgIQRcQBIWCwnOgKvJSmlUsoYY8z0v2vDMMNBH1JKrXUMUw2MMUqp26mcm/7MFiGEtfZ2sKlneaVYfoTA6+e24Hmex1CBod15nmutQwh5nkey3b8QIs/zIZfW2hCClDKGjg8/O2utUvEuWhBxYCzDfWWWZVVVZVk29ThCCCGlzLJsiHhZllrrqSe6YYyx9uZQV621tTaGC8xwURkiPlwCp57ozyDiwFhuIz5Ec+pxbmith3ZXVVUUxdTj3BjWeYQQxpjbE6+mHurmvdRg6lleiYgDYxkSIKWMZ+l5MNxRRvLmIH5x3oDfiuvfFvCaifP3P86pohX5y0XEgXFFm4BoB8OPEu9CDwDgexFxAEgYEQeAhBFxAEgYEQeAhBFxAEgYEQeAhBFxAEgYEQeAhBFxAEgYEQeAhBFxAEgYEQeAhBFxAEgYEQeAhBFxAEgYEQeAhBFxAEgYEQeAhBFxAEgYEQeAhBFxAEgYEQeAhBFxAEgYEQeAhBFxAEgYEQeAhJmRvq5SyhhjrQ0hhBBG+i4/nLVWKaWU0loPg0kppx5KGGOMMVrrYbZhsKmHumGMUUpJKWN4oQC8yogRL4pCCBFJxLMsy7JMaz38p1LKOTftSEIIrbW1dhhMSlmW5e2EkyuKIp5hALzKWBHXWt9WIIaIG2OyLBvuK4d0eu+nHkrcvjMwxnjvq6rKsmzqoW5Ya4k4ED85UmG99865IZQxRHxYrxAv3xlE8v5AvqSUCiF472O4tAyG5Z3hRQMQrbEiLuJoN/4SrIYD8Rsx4gCAsfFmGQASRsQBIGFEHAASRsQBIGFEHAASRsQBIGFEHAASRsQBIGFEHAASRsQBIGFEHAASRsQBIGFEHAAS9n8ATrgnNtnoemgAAAAASUVORK5CYII=)\n",
        "\n",
        "Here, we remove tweets that appeared twice or more in the dataset. Any redundant tweets do not add to the predictive power, so they can be removed.\n",
        "\n",
        "Image source: https://www.datanovia.com/en/lessons/identify-and-remove-duplicate-data-in-r/"
      ]
    },
    {
      "cell_type": "code",
      "metadata": {
        "id": "HO8zP5nisrGB",
        "colab": {
          "base_uri": "https://localhost:8080/",
          "height": 419
        },
        "outputId": "c1791d31-a11d-4f33-c3ef-460165771258"
      },
      "source": [
        "df_duplicated_free=df.drop_duplicates(subset='text', keep='first')\n",
        "df_duplicated_free"
      ],
      "execution_count": null,
      "outputs": [
        {
          "output_type": "execute_result",
          "data": {
            "text/html": [
              "<div>\n",
              "<style scoped>\n",
              "    .dataframe tbody tr th:only-of-type {\n",
              "        vertical-align: middle;\n",
              "    }\n",
              "\n",
              "    .dataframe tbody tr th {\n",
              "        vertical-align: top;\n",
              "    }\n",
              "\n",
              "    .dataframe thead th {\n",
              "        text-align: right;\n",
              "    }\n",
              "</style>\n",
              "<table border=\"1\" class=\"dataframe\">\n",
              "  <thead>\n",
              "    <tr style=\"text-align: right;\">\n",
              "      <th></th>\n",
              "      <th>id</th>\n",
              "      <th>keyword</th>\n",
              "      <th>location</th>\n",
              "      <th>text</th>\n",
              "      <th>target</th>\n",
              "    </tr>\n",
              "  </thead>\n",
              "  <tbody>\n",
              "    <tr>\n",
              "      <th>0</th>\n",
              "      <td>3738</td>\n",
              "      <td>destroyed</td>\n",
              "      <td>USA</td>\n",
              "      <td>Black Eye 9: A space battle occurred at Star O...</td>\n",
              "      <td>0</td>\n",
              "    </tr>\n",
              "    <tr>\n",
              "      <th>1</th>\n",
              "      <td>853</td>\n",
              "      <td>bioterror</td>\n",
              "      <td>NaN</td>\n",
              "      <td>#world FedEx no longer to transport bioterror ...</td>\n",
              "      <td>0</td>\n",
              "    </tr>\n",
              "    <tr>\n",
              "      <th>2</th>\n",
              "      <td>10540</td>\n",
              "      <td>windstorm</td>\n",
              "      <td>Palm Beach County, FL</td>\n",
              "      <td>Reality Training: Train falls off elevated tra...</td>\n",
              "      <td>1</td>\n",
              "    </tr>\n",
              "    <tr>\n",
              "      <th>3</th>\n",
              "      <td>5988</td>\n",
              "      <td>hazardous</td>\n",
              "      <td>USA</td>\n",
              "      <td>#Taiwan Grace: expect that large rocks trees m...</td>\n",
              "      <td>1</td>\n",
              "    </tr>\n",
              "    <tr>\n",
              "      <th>4</th>\n",
              "      <td>6328</td>\n",
              "      <td>hostage</td>\n",
              "      <td>Australia</td>\n",
              "      <td>New ISIS Video: ISIS Threatens to Behead Croat...</td>\n",
              "      <td>1</td>\n",
              "    </tr>\n",
              "    <tr>\n",
              "      <th>...</th>\n",
              "      <td>...</td>\n",
              "      <td>...</td>\n",
              "      <td>...</td>\n",
              "      <td>...</td>\n",
              "      <td>...</td>\n",
              "    </tr>\n",
              "    <tr>\n",
              "      <th>6466</th>\n",
              "      <td>4377</td>\n",
              "      <td>earthquake</td>\n",
              "      <td>ARGENTINA</td>\n",
              "      <td>#Earthquake #Sismo M 1.9 - 15km E of Anchorage...</td>\n",
              "      <td>1</td>\n",
              "    </tr>\n",
              "    <tr>\n",
              "      <th>6467</th>\n",
              "      <td>3408</td>\n",
              "      <td>derail</td>\n",
              "      <td>NaN</td>\n",
              "      <td>@EmiiliexIrwin Totally agree.She is 23 and kno...</td>\n",
              "      <td>0</td>\n",
              "    </tr>\n",
              "    <tr>\n",
              "      <th>6468</th>\n",
              "      <td>9794</td>\n",
              "      <td>trapped</td>\n",
              "      <td>NaN</td>\n",
              "      <td>Hollywood Movie About Trapped Miners Released ...</td>\n",
              "      <td>1</td>\n",
              "    </tr>\n",
              "    <tr>\n",
              "      <th>6469</th>\n",
              "      <td>10344</td>\n",
              "      <td>weapons</td>\n",
              "      <td>Beirut/Toronto</td>\n",
              "      <td>Friendly reminder that the only country to eve...</td>\n",
              "      <td>1</td>\n",
              "    </tr>\n",
              "    <tr>\n",
              "      <th>6470</th>\n",
              "      <td>1779</td>\n",
              "      <td>buildings%20on%20fire</td>\n",
              "      <td>NaN</td>\n",
              "      <td>Buildings are on fire and they have time for a...</td>\n",
              "      <td>1</td>\n",
              "    </tr>\n",
              "  </tbody>\n",
              "</table>\n",
              "<p>6387 rows × 5 columns</p>\n",
              "</div>"
            ],
            "text/plain": [
              "         id  ... target\n",
              "0      3738  ...      0\n",
              "1       853  ...      0\n",
              "2     10540  ...      1\n",
              "3      5988  ...      1\n",
              "4      6328  ...      1\n",
              "...     ...  ...    ...\n",
              "6466   4377  ...      1\n",
              "6467   3408  ...      0\n",
              "6468   9794  ...      1\n",
              "6469  10344  ...      1\n",
              "6470   1779  ...      1\n",
              "\n",
              "[6387 rows x 5 columns]"
            ]
          },
          "metadata": {
            "tags": []
          },
          "execution_count": 6
        }
      ]
    },
    {
      "cell_type": "markdown",
      "metadata": {
        "id": "LrZ6VgPKtCAQ"
      },
      "source": [
        "##1.2.Tokenize, Remove Stopwords and Punctuation Marks\n",
        "\n",
        "![2.png](data:image/png;base64,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)\n",
        "\n",
        "Here, we define a tokenizer function that lemmatizes the words, i.e. reduced the words to the stem. \n",
        "The function also removes stopwords and punctuations.\n",
        "\n",
        "Image source: https://medium.com/swlh/introduction-to-stemming-vs-lemmatization-nlp-8c69eb43ecfe"
      ]
    },
    {
      "cell_type": "code",
      "metadata": {
        "id": "1HtOw95asn6g"
      },
      "source": [
        "# Load English language model from SpaCy\n",
        "sp = spacy.load('en_core_web_sm')"
      ],
      "execution_count": null,
      "outputs": []
    },
    {
      "cell_type": "code",
      "metadata": {
        "id": "9KG34yk9tI_U",
        "colab": {
          "base_uri": "https://localhost:8080/"
        },
        "outputId": "92f7b73d-07b2-426f-b91c-a2acde496169"
      },
      "source": [
        "# Import stopwords from English language\n",
        "stop_words = spacy.lang.en.stop_words.STOP_WORDS\n",
        "# Print total number of stopwords\n",
        "print('Number of stopwords: %d' % len(stop_words))"
      ],
      "execution_count": null,
      "outputs": [
        {
          "output_type": "stream",
          "text": [
            "Number of stopwords: 326\n"
          ],
          "name": "stdout"
        }
      ]
    },
    {
      "cell_type": "code",
      "metadata": {
        "id": "ruNesWDptPRY",
        "colab": {
          "base_uri": "https://localhost:8080/",
          "height": 37
        },
        "outputId": "2092856b-3f74-4e0e-c17e-42c02d809d9c"
      },
      "source": [
        "# Create a list of punctuation marks\n",
        "punctuations = string.punctuation\n",
        "punctuations"
      ],
      "execution_count": null,
      "outputs": [
        {
          "output_type": "execute_result",
          "data": {
            "application/vnd.google.colaboratory.intrinsic+json": {
              "type": "string"
            },
            "text/plain": [
              "'!\"#$%&\\'()*+,-./:;<=>?@[\\\\]^_`{|}~'"
            ]
          },
          "metadata": {
            "tags": []
          },
          "execution_count": 9
        }
      ]
    },
    {
      "cell_type": "code",
      "metadata": {
        "id": "VHsy0ptrtZf5",
        "colab": {
          "base_uri": "https://localhost:8080/",
          "height": 37
        },
        "outputId": "a517123b-9a58-4b68-a06b-c43e648fff1d"
      },
      "source": [
        "# Create tokenizer function\n",
        "def spacy_tokenizer(sentence):\n",
        "    # Create token object, which is used to create documents with linguistic annotations.\n",
        "    mytokens = sp(sentence)\n",
        "\n",
        "    # Lemmatize each token and convert each token into lowercase\n",
        "    mytokens = [ word.lemma_.lower().strip() if word.lemma_ != \"-PRON-\" else word.lower_ for word in mytokens ]\n",
        "\n",
        "    # Remove stop words and punctuation\n",
        "    mytokens = [ word for word in mytokens if word not in stop_words and word not in punctuations ]\n",
        "\n",
        "    # Return preprocessed list of tokens\n",
        "    return mytokens\n",
        "\n",
        "# Example\n",
        "example = df_duplicated_free[\"text\"].sample()\n",
        "example.values[0]"
      ],
      "execution_count": null,
      "outputs": [
        {
          "output_type": "execute_result",
          "data": {
            "application/vnd.google.colaboratory.intrinsic+json": {
              "type": "string"
            },
            "text/plain": [
              "'World War II book LIGHTNING JOE An Autobiography by General J. Lawton Collins http://t.co/BzdfznKvoG http://t.co/eRhdH37rDh'"
            ]
          },
          "metadata": {
            "tags": []
          },
          "execution_count": 10
        }
      ]
    },
    {
      "cell_type": "code",
      "metadata": {
        "id": "_2MwQ7y-tiDU",
        "colab": {
          "base_uri": "https://localhost:8080/"
        },
        "outputId": "a6de4dfc-0a70-4e46-c407-6576358bf333"
      },
      "source": [
        "spacy_tokenizer(example.values[0])"
      ],
      "execution_count": null,
      "outputs": [
        {
          "output_type": "execute_result",
          "data": {
            "text/plain": [
              "['world',\n",
              " 'war',\n",
              " 'ii',\n",
              " 'book',\n",
              " 'lightning',\n",
              " 'joe',\n",
              " 'autobiography',\n",
              " 'general',\n",
              " 'j.',\n",
              " 'lawton',\n",
              " 'collins',\n",
              " 'http://t.co/bzdfznkvog',\n",
              " 'http://t.co/erhdh37rdh']"
            ]
          },
          "metadata": {
            "tags": []
          },
          "execution_count": 11
        }
      ]
    },
    {
      "cell_type": "markdown",
      "metadata": {
        "id": "Rew_pg4zP-Iu"
      },
      "source": [
        "#2.Test-train Split\n",
        "Now, we split data into a training set and a test set."
      ]
    },
    {
      "cell_type": "code",
      "metadata": {
        "id": "Km_hNA-ptnmV",
        "colab": {
          "base_uri": "https://localhost:8080/"
        },
        "outputId": "35c22a85-cf00-44e5-cdaf-bf646ee78323"
      },
      "source": [
        "# Select features\n",
        "X = df_duplicated_free['text']\n",
        "y = df_duplicated_free['target'] \n",
        "\n",
        "# Train test split\n",
        "X_train, X_test, y_train, y_test = train_test_split(X, y, test_size=0.2, random_state=72)\n",
        "\n",
        "X_train"
      ],
      "execution_count": null,
      "outputs": [
        {
          "output_type": "execute_result",
          "data": {
            "text/plain": [
              "2378    Various issues fail to derail homes bid http:/...\n",
              "5581    Baltimore City : I-95 NORTH AT MP 54.8 (FORT M...\n",
              "5162    @FedPorn I feel your pain. Survivors will look...\n",
              "6009    Ron &amp; Fez - Dave's High School Crush https...\n",
              "1548    || So.... I just watched the trailed for The D...\n",
              "                              ...                        \n",
              "2915    .@DinosaurDracula Felt remorse for missing Pam...\n",
              "3995    @lordRsBiscuits That's always good for a prett...\n",
              "5236    1 hour parade like 50 people collapsed. #OneHe...\n",
              "5984    Christian Attacked by Muslims at the Temple Mo...\n",
              "4631    Catching up on GBBO and omg that girls cake th...\n",
              "Name: text, Length: 5109, dtype: object"
            ]
          },
          "metadata": {
            "tags": []
          },
          "execution_count": 12
        }
      ]
    },
    {
      "cell_type": "code",
      "metadata": {
        "id": "mgiUPsNltrNH",
        "colab": {
          "base_uri": "https://localhost:8080/"
        },
        "outputId": "e5efcb55-a10e-479b-d633-60feb0c0e8e7"
      },
      "source": [
        "y_train"
      ],
      "execution_count": null,
      "outputs": [
        {
          "output_type": "execute_result",
          "data": {
            "text/plain": [
              "2378    0\n",
              "5581    1\n",
              "5162    1\n",
              "6009    1\n",
              "1548    0\n",
              "       ..\n",
              "2915    0\n",
              "3995    1\n",
              "5236    1\n",
              "5984    1\n",
              "4631    0\n",
              "Name: target, Length: 5109, dtype: int64"
            ]
          },
          "metadata": {
            "tags": []
          },
          "execution_count": 13
        }
      ]
    },
    {
      "cell_type": "markdown",
      "metadata": {
        "id": "kvF9fRhhujX4"
      },
      "source": [
        "#3.Prediction\n",
        "This part of notebook is dedicated to predictions made using unlabelled test data. We made 4 attempts to predict the \"target y\" and submit these csv files on AIcrowd. In every attempt we changed some parameters. For example,  tuned the parameters of the vectorizer or classifier."
      ]
    },
    {
      "cell_type": "markdown",
      "metadata": {
        "id": "d0p9ABQyuLfR"
      },
      "source": [
        "##1st Prediction: Simple logistic regression\n",
        "\n",
        "![4.png](data:image/png;base64,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)\n",
        "\n",
        "Here, we made our first prediction with the above defined model. We use a logistic regression without cross-validation and a vectorizer with pre-defined parameters.\n",
        "\n",
        "Image source: https://www.youtube.com/watch?v=yIYKR4sgzI8"
      ]
    },
    {
      "cell_type": "code",
      "metadata": {
        "id": "XumlDpi6twnh"
      },
      "source": [
        "#We use the above defined tokenizer\n",
        "tfidf_vector = TfidfVectorizer(tokenizer=spacy_tokenizer)\n",
        "\n",
        "#Define classifier\n",
        "classifier = LogisticRegression(solver=\"lbfgs\", max_iter=1000, random_state=72)\n",
        "\n",
        "# Create pipeline\n",
        "pipe = Pipeline([('vectorizer', tfidf_vector),\n",
        "                 ('classifier', classifier)])"
      ],
      "execution_count": null,
      "outputs": []
    },
    {
      "cell_type": "code",
      "metadata": {
        "id": "yy57DA95t7AJ",
        "colab": {
          "base_uri": "https://localhost:8080/"
        },
        "outputId": "1a932ae2-ada7-4ba9-fb15-fca686f3b12f"
      },
      "source": [
        "# Fit model on training set\n",
        "pipe.fit(X_train, y_train)"
      ],
      "execution_count": null,
      "outputs": [
        {
          "output_type": "execute_result",
          "data": {
            "text/plain": [
              "Pipeline(memory=None,\n",
              "         steps=[('vectorizer',\n",
              "                 TfidfVectorizer(analyzer='word', binary=False,\n",
              "                                 decode_error='strict',\n",
              "                                 dtype=<class 'numpy.float64'>,\n",
              "                                 encoding='utf-8', input='content',\n",
              "                                 lowercase=True, max_df=1.0, max_features=None,\n",
              "                                 min_df=1, ngram_range=(1, 1), norm='l2',\n",
              "                                 preprocessor=None, smooth_idf=True,\n",
              "                                 stop_words=None, strip_accents=None,\n",
              "                                 sublinear_tf=False,\n",
              "                                 token_patt...',\n",
              "                                 tokenizer=<function spacy_tokenizer at 0x7f45d7458950>,\n",
              "                                 use_idf=True, vocabulary=None)),\n",
              "                ('classifier',\n",
              "                 LogisticRegression(C=1.0, class_weight=None, dual=False,\n",
              "                                    fit_intercept=True, intercept_scaling=1,\n",
              "                                    l1_ratio=None, max_iter=1000,\n",
              "                                    multi_class='auto', n_jobs=None,\n",
              "                                    penalty='l2', random_state=72,\n",
              "                                    solver='lbfgs', tol=0.0001, verbose=0,\n",
              "                                    warm_start=False))],\n",
              "         verbose=False)"
            ]
          },
          "metadata": {
            "tags": []
          },
          "execution_count": 14
        }
      ]
    },
    {
      "cell_type": "code",
      "metadata": {
        "id": "bzKeigZ0t7gL"
      },
      "source": [
        "y_pred = pipe.predict(X_test)"
      ],
      "execution_count": null,
      "outputs": []
    },
    {
      "cell_type": "code",
      "metadata": {
        "id": "d07EUZRkuBkO"
      },
      "source": [
        "# Evaluate the model\n",
        "def evaluate(true, pred):\n",
        "    print(f\"CONFUSION MATRIX:\\n{confusion_matrix(true, pred)}\")\n",
        "    print(f\"ACCURACY SCORE:\\n{accuracy_score(true, pred):.4f}\")"
      ],
      "execution_count": null,
      "outputs": []
    },
    {
      "cell_type": "code",
      "metadata": {
        "id": "i8jtQaNNuD-j",
        "colab": {
          "base_uri": "https://localhost:8080/"
        },
        "outputId": "c6b1c0b0-1737-41e4-afc1-665ce1520609"
      },
      "source": [
        "# Evaluation - test set\n",
        "evaluate(y_test, y_pred)"
      ],
      "execution_count": null,
      "outputs": [
        {
          "output_type": "stream",
          "text": [
            "CONFUSION MATRIX:\n",
            "[[670  92]\n",
            " [153 363]]\n",
            "ACCURACY SCORE:\n",
            "0.8083\n"
          ],
          "name": "stdout"
        }
      ]
    },
    {
      "cell_type": "markdown",
      "metadata": {
        "id": "ja7dnBDZxMmX"
      },
      "source": [
        "###1.Submission **0.803**"
      ]
    },
    {
      "cell_type": "code",
      "metadata": {
        "id": "h_0kXokMuMbY",
        "colab": {
          "base_uri": "https://localhost:8080/"
        },
        "outputId": "2b93ba40-31c1-4e82-85de-e2cb856375f5"
      },
      "source": [
        "from google.colab import drive\n",
        "drive.mount('drive')"
      ],
      "execution_count": null,
      "outputs": [
        {
          "output_type": "stream",
          "text": [
            "Mounted at drive\n"
          ],
          "name": "stdout"
        }
      ]
    },
    {
      "cell_type": "code",
      "metadata": {
        "id": "N-ZRTModuS41",
        "colab": {
          "base_uri": "https://localhost:8080/"
        },
        "outputId": "c0bc0399-d3d3-4d2b-e092-dbac63b4df00"
      },
      "source": [
        "y_totest = df_test_data['text']\n",
        "y_totest"
      ],
      "execution_count": null,
      "outputs": [
        {
          "output_type": "execute_result",
          "data": {
            "text/plain": [
              "0       Crptotech tsunami and banks.\\n http://t.co/KHz...\n",
              "1       I'm that traumatised that I can't even spell p...\n",
              "2       @foxnewsvideo @AIIAmericanGirI @ANHQDC So ... ...\n",
              "3       Me watching Law &amp; Order (IB: @sauldale305)...\n",
              "4                       Papi absolutely crushed that ball\n",
              "                              ...                        \n",
              "1137    @ItsQueenBaby I'm at work it's a bunch of ppl ...\n",
              "1138    #?? #?? #??? #??? Suicide bomber kills 15 in S...\n",
              "1139    Eruption of Indonesian volcano sparks transpor...\n",
              "1140    Never let fear get in the way of achieving you...\n",
              "1141    wowo--=== 12000 Nigerian refugees repatriated ...\n",
              "Name: text, Length: 1142, dtype: object"
            ]
          },
          "metadata": {
            "tags": []
          },
          "execution_count": 19
        }
      ]
    },
    {
      "cell_type": "code",
      "metadata": {
        "id": "pXoHgP-_uVlq",
        "colab": {
          "base_uri": "https://localhost:8080/",
          "height": 419
        },
        "outputId": "d5abb301-32e6-4e5a-90c6-4ac0e92782ff"
      },
      "source": [
        "y_1 = pd.DataFrame()\n",
        "y_1['target'] = pipe.predict(y_totest)\n",
        "y_1"
      ],
      "execution_count": null,
      "outputs": [
        {
          "output_type": "execute_result",
          "data": {
            "text/html": [
              "<div>\n",
              "<style scoped>\n",
              "    .dataframe tbody tr th:only-of-type {\n",
              "        vertical-align: middle;\n",
              "    }\n",
              "\n",
              "    .dataframe tbody tr th {\n",
              "        vertical-align: top;\n",
              "    }\n",
              "\n",
              "    .dataframe thead th {\n",
              "        text-align: right;\n",
              "    }\n",
              "</style>\n",
              "<table border=\"1\" class=\"dataframe\">\n",
              "  <thead>\n",
              "    <tr style=\"text-align: right;\">\n",
              "      <th></th>\n",
              "      <th>target</th>\n",
              "    </tr>\n",
              "  </thead>\n",
              "  <tbody>\n",
              "    <tr>\n",
              "      <th>0</th>\n",
              "      <td>0</td>\n",
              "    </tr>\n",
              "    <tr>\n",
              "      <th>1</th>\n",
              "      <td>0</td>\n",
              "    </tr>\n",
              "    <tr>\n",
              "      <th>2</th>\n",
              "      <td>1</td>\n",
              "    </tr>\n",
              "    <tr>\n",
              "      <th>3</th>\n",
              "      <td>0</td>\n",
              "    </tr>\n",
              "    <tr>\n",
              "      <th>4</th>\n",
              "      <td>0</td>\n",
              "    </tr>\n",
              "    <tr>\n",
              "      <th>...</th>\n",
              "      <td>...</td>\n",
              "    </tr>\n",
              "    <tr>\n",
              "      <th>1137</th>\n",
              "      <td>1</td>\n",
              "    </tr>\n",
              "    <tr>\n",
              "      <th>1138</th>\n",
              "      <td>1</td>\n",
              "    </tr>\n",
              "    <tr>\n",
              "      <th>1139</th>\n",
              "      <td>1</td>\n",
              "    </tr>\n",
              "    <tr>\n",
              "      <th>1140</th>\n",
              "      <td>0</td>\n",
              "    </tr>\n",
              "    <tr>\n",
              "      <th>1141</th>\n",
              "      <td>1</td>\n",
              "    </tr>\n",
              "  </tbody>\n",
              "</table>\n",
              "<p>1142 rows × 1 columns</p>\n",
              "</div>"
            ],
            "text/plain": [
              "      target\n",
              "0          0\n",
              "1          0\n",
              "2          1\n",
              "3          0\n",
              "4          0\n",
              "...      ...\n",
              "1137       1\n",
              "1138       1\n",
              "1139       1\n",
              "1140       0\n",
              "1141       1\n",
              "\n",
              "[1142 rows x 1 columns]"
            ]
          },
          "metadata": {
            "tags": []
          },
          "execution_count": 20
        }
      ]
    },
    {
      "cell_type": "code",
      "metadata": {
        "id": "DY_kB9StuaBO"
      },
      "source": [
        "y_1.to_csv('y_1.csv')\n",
        "!cp y_1.csv \"drive/My Drive/DM&ML/Colab Notebooks/Project\""
      ],
      "execution_count": null,
      "outputs": []
    },
    {
      "cell_type": "markdown",
      "metadata": {
        "id": "d4TOeeSbufrU"
      },
      "source": [
        "##2nd Prediction: Best parameter with cross validation **<0.803**\n",
        "\n",
        "![5.png](data:image/png;base64,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)\n",
        "\n",
        "Here, we tried to find the best parameters for the vectorizer with cross validation. \n",
        "To do so, we defined a list of configurations, for each of which we ran the prediction. From there, we could read out the best parameters\n",
        "\n",
        "We ended up with:\n",
        "*   ngram range (1,1)\n",
        "*   min_df = 1\n",
        "*   max_df = 1.0\n",
        "*   analyzer = 'word'\n",
        "\n",
        "Finally, we used those parameters to run the prediction again. Unfortunately, our prediction did not improve. It was below the 0.803 that we achieved in the first prediction. So we did not submit it.\n",
        "\n",
        "Image source: https://medium.com/@rj322198/cross-validation-in-machine-learning-c677653ea475"
      ]
    },
    {
      "cell_type": "code",
      "metadata": {
        "colab": {
          "base_uri": "https://localhost:8080/"
        },
        "id": "keMOUgDrL0l5",
        "outputId": "33474bba-64a4-4223-cf3d-631407ffb0a4"
      },
      "source": [
        "#optimizing the parameters of the TfidfVectorizer class.\n",
        " # Create list of configs\n",
        "def configs():\n",
        "\n",
        "    models = list()\n",
        "    \n",
        "    # Define config lists\n",
        "    ngram_range = [(1,1), (1,2), (1, 3), (2, 2), (2, 3), (3, 3)]\n",
        "    min_df = [1]\n",
        "    max_df = [1.0]\n",
        "    analyzer=['word', 'char']\n",
        "    \n",
        "    # Create config instances\n",
        "    for n in ngram_range:\n",
        "        for i in min_df:\n",
        "            for j in max_df:\n",
        "              for a in analyzer:\n",
        "                    cfg = [n, i, j, a]\n",
        "                    models.append(cfg)\n",
        "    return models\n",
        "\n",
        "configs = configs()\n",
        "configs[:10]"
      ],
      "execution_count": null,
      "outputs": [
        {
          "output_type": "execute_result",
          "data": {
            "text/plain": [
              "[[(1, 1), 1, 1.0, 'word'],\n",
              " [(1, 1), 1, 1.0, 'char'],\n",
              " [(1, 2), 1, 1.0, 'word'],\n",
              " [(1, 2), 1, 1.0, 'char'],\n",
              " [(1, 3), 1, 1.0, 'word'],\n",
              " [(1, 3), 1, 1.0, 'char'],\n",
              " [(2, 2), 1, 1.0, 'word'],\n",
              " [(2, 2), 1, 1.0, 'char'],\n",
              " [(2, 3), 1, 1.0, 'word'],\n",
              " [(2, 3), 1, 1.0, 'char']]"
            ]
          },
          "metadata": {
            "tags": []
          },
          "execution_count": 22
        }
      ]
    },
    {
      "cell_type": "code",
      "metadata": {
        "id": "Rv1lMcKJvbdN",
        "colab": {
          "base_uri": "https://localhost:8080/"
        },
        "outputId": "0e9e20d1-4e54-4bc2-be0e-4563fd8cc1aa"
      },
      "source": [
        "# Define list for result\n",
        "result = []\n",
        "\n",
        "for config in configs:\n",
        "\n",
        "    # Redefine vectorizer\n",
        "    tfidf_vector = TfidfVectorizer(tokenizer=spacy_tokenizer, \n",
        "                                   ngram_range=config[0],\n",
        "                                   min_df=config[1], max_df=config[2], analyzer=config[3])\n",
        "\n",
        "    # Define classifier\n",
        "    classifier = LogisticRegressionCV(solver=\"lbfgs\", max_iter=5000, random_state=72)\n",
        "\n",
        "    # Create pipeline\n",
        "    pipe = Pipeline([('vectorizer', tfidf_vector),\n",
        "                 ('classifier', classifier)])\n",
        " \n",
        "    # Fit model on training set\n",
        "    pipe.fit(X_train, y_train)\n",
        "\n",
        "    # Predictions\n",
        "    y_pred = pipe.predict(X_test)\n",
        "\n",
        "    # Print accuracy on test set\n",
        "    print(\"CONFIG: \", config)\n",
        "    evaluate(y_test, y_pred)\n",
        "    print(\"-----------------------\")\n",
        "\n",
        "    # Append to result\n",
        "    result.append([config, accuracy_score(y_test, y_pred)])"
      ],
      "execution_count": null,
      "outputs": [
        {
          "output_type": "stream",
          "text": [
            "CONFIG:  [(1, 1), 1, 1.0, 'word']\n",
            "CONFUSION MATRIX:\n",
            "[[639 123]\n",
            " [146 370]]\n",
            "ACCURACY SCORE:\n",
            "0.7895\n",
            "-----------------------\n",
            "CONFIG:  [(1, 1), 1, 1.0, 'char']\n",
            "CONFUSION MATRIX:\n",
            "[[584 178]\n",
            " [211 305]]\n",
            "ACCURACY SCORE:\n",
            "0.6956\n",
            "-----------------------\n",
            "CONFIG:  [(1, 2), 1, 1.0, 'word']\n",
            "CONFUSION MATRIX:\n",
            "[[614 148]\n",
            " [137 379]]\n",
            "ACCURACY SCORE:\n",
            "0.7770\n",
            "-----------------------\n",
            "CONFIG:  [(1, 2), 1, 1.0, 'char']\n",
            "CONFUSION MATRIX:\n",
            "[[623 139]\n",
            " [167 349]]\n",
            "ACCURACY SCORE:\n",
            "0.7606\n",
            "-----------------------\n",
            "CONFIG:  [(1, 3), 1, 1.0, 'word']\n",
            "CONFUSION MATRIX:\n",
            "[[607 155]\n",
            " [138 378]]\n",
            "ACCURACY SCORE:\n",
            "0.7707\n",
            "-----------------------\n",
            "CONFIG:  [(1, 3), 1, 1.0, 'char']\n",
            "CONFUSION MATRIX:\n",
            "[[632 130]\n",
            " [154 362]]\n",
            "ACCURACY SCORE:\n",
            "0.7778\n",
            "-----------------------\n",
            "CONFIG:  [(2, 2), 1, 1.0, 'word']\n",
            "CONFUSION MATRIX:\n",
            "[[668  94]\n",
            " [233 283]]\n",
            "ACCURACY SCORE:\n",
            "0.7441\n",
            "-----------------------\n",
            "CONFIG:  [(2, 2), 1, 1.0, 'char']\n",
            "CONFUSION MATRIX:\n",
            "[[641 121]\n",
            " [194 322]]\n",
            "ACCURACY SCORE:\n",
            "0.7535\n",
            "-----------------------\n",
            "CONFIG:  [(2, 3), 1, 1.0, 'word']\n",
            "CONFUSION MATRIX:\n",
            "[[684  78]\n",
            " [248 268]]\n",
            "ACCURACY SCORE:\n",
            "0.7449\n",
            "-----------------------\n",
            "CONFIG:  [(2, 3), 1, 1.0, 'char']\n",
            "CONFUSION MATRIX:\n",
            "[[627 135]\n",
            " [159 357]]\n",
            "ACCURACY SCORE:\n",
            "0.7700\n",
            "-----------------------\n",
            "CONFIG:  [(3, 3), 1, 1.0, 'word']\n",
            "CONFUSION MATRIX:\n",
            "[[734  28]\n",
            " [339 177]]\n",
            "ACCURACY SCORE:\n",
            "0.7128\n",
            "-----------------------\n",
            "CONFIG:  [(3, 3), 1, 1.0, 'char']\n",
            "CONFUSION MATRIX:\n",
            "[[625 137]\n",
            " [159 357]]\n",
            "ACCURACY SCORE:\n",
            "0.7684\n",
            "-----------------------\n"
          ],
          "name": "stdout"
        }
      ]
    },
    {
      "cell_type": "code",
      "metadata": {
        "id": "WiOzDgLavgLQ",
        "colab": {
          "base_uri": "https://localhost:8080/"
        },
        "outputId": "459fd136-e2c7-4352-9a29-d66b9d4dc829"
      },
      "source": [
        "# Define vectorizer\n",
        "tfidf_vector = TfidfVectorizer(tokenizer=spacy_tokenizer,ngram_range=(1, 1),\n",
        "                                   min_df= 1, max_df=1.0, analyzer= 'word') # we use the above defined tokenizer\n",
        "\n",
        "# Define classifier\n",
        "classifier = LogisticRegressionCV(solver=\"lbfgs\", max_iter=5000, random_state=72)\n",
        "\n",
        "# Create pipeline\n",
        "pipe = Pipeline([('vectorizer', tfidf_vector),\n",
        "                 ('classifier', classifier)])\n",
        "\n",
        "# Fit model on training set\n",
        "pipe.fit(X_train, y_train)\n",
        "\n",
        "# Predictions\n",
        "y_pred = pipe.predict(X_test)\n",
        "\n",
        "# Evaluation - test set\n",
        "evaluate(y_test, y_pred)\n",
        "\n",
        "# Evaluation - training set\n",
        "evaluate(y_train,pipe.predict(X_train))"
      ],
      "execution_count": null,
      "outputs": [
        {
          "output_type": "stream",
          "text": [
            "CONFUSION MATRIX:\n",
            "[[639 123]\n",
            " [146 370]]\n",
            "ACCURACY SCORE:\n",
            "0.7895\n",
            "CONFUSION MATRIX:\n",
            "[[2866   48]\n",
            " [ 219 1976]]\n",
            "ACCURACY SCORE:\n",
            "0.9477\n"
          ],
          "name": "stdout"
        }
      ]
    },
    {
      "cell_type": "markdown",
      "metadata": {
        "id": "ESnJ8xzZvhdi"
      },
      "source": [
        "### Not submitted\n",
        "So, we managed to find out the best parameters and we are going to use them now:"
      ]
    },
    {
      "cell_type": "code",
      "metadata": {
        "id": "Yrd1YMqCvwVO",
        "colab": {
          "base_uri": "https://localhost:8080/"
        },
        "outputId": "4dee4ed8-1a3b-4fee-a74c-ab15e8a4caa0"
      },
      "source": [
        "y_2 = df_test_data['text']\n",
        "y_2"
      ],
      "execution_count": null,
      "outputs": [
        {
          "output_type": "execute_result",
          "data": {
            "text/plain": [
              "0       Crptotech tsunami and banks.\\n http://t.co/KHz...\n",
              "1       I'm that traumatised that I can't even spell p...\n",
              "2       @foxnewsvideo @AIIAmericanGirI @ANHQDC So ... ...\n",
              "3       Me watching Law &amp; Order (IB: @sauldale305)...\n",
              "4                       Papi absolutely crushed that ball\n",
              "                              ...                        \n",
              "1137    @ItsQueenBaby I'm at work it's a bunch of ppl ...\n",
              "1138    #?? #?? #??? #??? Suicide bomber kills 15 in S...\n",
              "1139    Eruption of Indonesian volcano sparks transpor...\n",
              "1140    Never let fear get in the way of achieving you...\n",
              "1141    wowo--=== 12000 Nigerian refugees repatriated ...\n",
              "Name: text, Length: 1142, dtype: object"
            ]
          },
          "metadata": {
            "tags": []
          },
          "execution_count": 24
        }
      ]
    },
    {
      "cell_type": "code",
      "metadata": {
        "id": "9AO1SUQTvyRn",
        "colab": {
          "base_uri": "https://localhost:8080/",
          "height": 419
        },
        "outputId": "53d1c8d8-f2d9-4d31-f734-d475793547cc"
      },
      "source": [
        "y_2 = pd.DataFrame()\n",
        "y_2['target'] = pipe.predict(y_totest)\n",
        "y_2"
      ],
      "execution_count": null,
      "outputs": [
        {
          "output_type": "execute_result",
          "data": {
            "text/html": [
              "<div>\n",
              "<style scoped>\n",
              "    .dataframe tbody tr th:only-of-type {\n",
              "        vertical-align: middle;\n",
              "    }\n",
              "\n",
              "    .dataframe tbody tr th {\n",
              "        vertical-align: top;\n",
              "    }\n",
              "\n",
              "    .dataframe thead th {\n",
              "        text-align: right;\n",
              "    }\n",
              "</style>\n",
              "<table border=\"1\" class=\"dataframe\">\n",
              "  <thead>\n",
              "    <tr style=\"text-align: right;\">\n",
              "      <th></th>\n",
              "      <th>target</th>\n",
              "    </tr>\n",
              "  </thead>\n",
              "  <tbody>\n",
              "    <tr>\n",
              "      <th>0</th>\n",
              "      <td>0</td>\n",
              "    </tr>\n",
              "    <tr>\n",
              "      <th>1</th>\n",
              "      <td>0</td>\n",
              "    </tr>\n",
              "    <tr>\n",
              "      <th>2</th>\n",
              "      <td>1</td>\n",
              "    </tr>\n",
              "    <tr>\n",
              "      <th>3</th>\n",
              "      <td>0</td>\n",
              "    </tr>\n",
              "    <tr>\n",
              "      <th>4</th>\n",
              "      <td>0</td>\n",
              "    </tr>\n",
              "    <tr>\n",
              "      <th>...</th>\n",
              "      <td>...</td>\n",
              "    </tr>\n",
              "    <tr>\n",
              "      <th>1137</th>\n",
              "      <td>1</td>\n",
              "    </tr>\n",
              "    <tr>\n",
              "      <th>1138</th>\n",
              "      <td>1</td>\n",
              "    </tr>\n",
              "    <tr>\n",
              "      <th>1139</th>\n",
              "      <td>1</td>\n",
              "    </tr>\n",
              "    <tr>\n",
              "      <th>1140</th>\n",
              "      <td>0</td>\n",
              "    </tr>\n",
              "    <tr>\n",
              "      <th>1141</th>\n",
              "      <td>1</td>\n",
              "    </tr>\n",
              "  </tbody>\n",
              "</table>\n",
              "<p>1142 rows × 1 columns</p>\n",
              "</div>"
            ],
            "text/plain": [
              "      target\n",
              "0          0\n",
              "1          0\n",
              "2          1\n",
              "3          0\n",
              "4          0\n",
              "...      ...\n",
              "1137       1\n",
              "1138       1\n",
              "1139       1\n",
              "1140       0\n",
              "1141       1\n",
              "\n",
              "[1142 rows x 1 columns]"
            ]
          },
          "metadata": {
            "tags": []
          },
          "execution_count": 25
        }
      ]
    },
    {
      "cell_type": "code",
      "metadata": {
        "id": "uGHMB_6Xv0T0"
      },
      "source": [
        "y_2.to_csv('y_2.csv')\n",
        "!cp y_2.csv \"drive/My Drive/DM&ML/Colab Notebooks/Project\""
      ],
      "execution_count": null,
      "outputs": []
    },
    {
      "cell_type": "markdown",
      "metadata": {
        "id": "F20YcTaXv5Es"
      },
      "source": [
        "##3rd Prediction: Random Forest **<0.803**\n",
        "\n",
        "![6.png](data:image/png;base64,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)\n",
        "\n",
        "As a next attempt, we used the random forest classifier for the prediction. \n",
        "Such a classifier constructs decision trees, along which the prediction can follow. Even though it is a more complicated method, it did not improve our results. The score was still below our first prediction, so we did not submit it.\n",
        "\n",
        "Image source: https://levelup.gitconnected.com/random-forest-regression-209c0f354c84"
      ]
    },
    {
      "cell_type": "code",
      "metadata": {
        "id": "4rZ4SoSav6mR",
        "colab": {
          "base_uri": "https://localhost:8080/"
        },
        "outputId": "fc7309a0-186b-4605-b70b-e6e10bc1fff4"
      },
      "source": [
        "#Use random forest\n",
        "from sklearn.ensemble import RandomForestClassifier\n",
        "\n",
        "# Define vectorizer\n",
        "tfidf_vector = TfidfVectorizer(tokenizer=spacy_tokenizer) # we use the above defined tokenizer\n",
        "\n",
        "# Define classifier\n",
        "classifier = RandomForestClassifier()\n",
        "\n",
        "# Create pipeline\n",
        "pipe = Pipeline([('vectorizer', tfidf_vector),\n",
        "                 ('classifier', classifier)])\n",
        "\n",
        "# Fit model on training set\n",
        "pipe.fit(X_train, y_train)\n",
        "\n",
        "# Predictions\n",
        "y_pred = pipe.predict(X_test)\n",
        "\n",
        "# Evaluation - test set\n",
        "evaluate(y_test, y_pred)\n",
        "\n",
        "# Evaluation - training set\n",
        "evaluate(y_train, pipe.predict(X_train))"
      ],
      "execution_count": null,
      "outputs": [
        {
          "output_type": "stream",
          "text": [
            "CONFUSION MATRIX:\n",
            "[[677  85]\n",
            " [175 341]]\n",
            "ACCURACY SCORE:\n",
            "0.7966\n",
            "CONFUSION MATRIX:\n",
            "[[2914    0]\n",
            " [   3 2192]]\n",
            "ACCURACY SCORE:\n",
            "0.9994\n"
          ],
          "name": "stdout"
        }
      ]
    },
    {
      "cell_type": "markdown",
      "metadata": {
        "id": "p-Xnza2BCZsb"
      },
      "source": [
        "### Not submitted"
      ]
    },
    {
      "cell_type": "code",
      "metadata": {
        "id": "_zZV1O_dv_v_",
        "colab": {
          "base_uri": "https://localhost:8080/",
          "height": 419
        },
        "outputId": "e3025eeb-f6a0-480f-e8e9-b59c972b4a77"
      },
      "source": [
        "y_3 = df_test_data['text']\n",
        "y_3 = pd.DataFrame()\n",
        "y_3['target'] = pipe.predict(y_totest)\n",
        "y_3"
      ],
      "execution_count": null,
      "outputs": [
        {
          "output_type": "execute_result",
          "data": {
            "text/html": [
              "<div>\n",
              "<style scoped>\n",
              "    .dataframe tbody tr th:only-of-type {\n",
              "        vertical-align: middle;\n",
              "    }\n",
              "\n",
              "    .dataframe tbody tr th {\n",
              "        vertical-align: top;\n",
              "    }\n",
              "\n",
              "    .dataframe thead th {\n",
              "        text-align: right;\n",
              "    }\n",
              "</style>\n",
              "<table border=\"1\" class=\"dataframe\">\n",
              "  <thead>\n",
              "    <tr style=\"text-align: right;\">\n",
              "      <th></th>\n",
              "      <th>target</th>\n",
              "    </tr>\n",
              "  </thead>\n",
              "  <tbody>\n",
              "    <tr>\n",
              "      <th>0</th>\n",
              "      <td>0</td>\n",
              "    </tr>\n",
              "    <tr>\n",
              "      <th>1</th>\n",
              "      <td>0</td>\n",
              "    </tr>\n",
              "    <tr>\n",
              "      <th>2</th>\n",
              "      <td>1</td>\n",
              "    </tr>\n",
              "    <tr>\n",
              "      <th>3</th>\n",
              "      <td>0</td>\n",
              "    </tr>\n",
              "    <tr>\n",
              "      <th>4</th>\n",
              "      <td>0</td>\n",
              "    </tr>\n",
              "    <tr>\n",
              "      <th>...</th>\n",
              "      <td>...</td>\n",
              "    </tr>\n",
              "    <tr>\n",
              "      <th>1137</th>\n",
              "      <td>1</td>\n",
              "    </tr>\n",
              "    <tr>\n",
              "      <th>1138</th>\n",
              "      <td>1</td>\n",
              "    </tr>\n",
              "    <tr>\n",
              "      <th>1139</th>\n",
              "      <td>1</td>\n",
              "    </tr>\n",
              "    <tr>\n",
              "      <th>1140</th>\n",
              "      <td>0</td>\n",
              "    </tr>\n",
              "    <tr>\n",
              "      <th>1141</th>\n",
              "      <td>1</td>\n",
              "    </tr>\n",
              "  </tbody>\n",
              "</table>\n",
              "<p>1142 rows × 1 columns</p>\n",
              "</div>"
            ],
            "text/plain": [
              "      target\n",
              "0          0\n",
              "1          0\n",
              "2          1\n",
              "3          0\n",
              "4          0\n",
              "...      ...\n",
              "1137       1\n",
              "1138       1\n",
              "1139       1\n",
              "1140       0\n",
              "1141       1\n",
              "\n",
              "[1142 rows x 1 columns]"
            ]
          },
          "metadata": {
            "tags": []
          },
          "execution_count": 28
        }
      ]
    },
    {
      "cell_type": "code",
      "metadata": {
        "id": "-KN0eKnBwCDg"
      },
      "source": [
        "y_3.to_csv('y_3.csv')\n",
        "!cp y_3.csv \"drive/My Drive/DM&ML/Colab Notebooks/Project\""
      ],
      "execution_count": null,
      "outputs": []
    },
    {
      "cell_type": "markdown",
      "metadata": {
        "id": "Ehz2METOwF4-"
      },
      "source": [
        "##4th Prediction: Best parameter without cross validation\n",
        "Having learnt from our second prediction, we next tried to find the best parameter for the vectorizer without cross-validation\n",
        "\n",
        "We ended up with the following parameters:\n",
        "*   ngram range (1,2)\n",
        "*   min_df = 1\n",
        "*   max_df = 1.0\n",
        "*   analyzer = 'word'\n",
        "\n",
        "We then predited and evaluated again using these parameters.\n",
        "This finally improved the prediction! We achieved a score of 0.811.\n",
        "\n",
        "**The score obtained is the best we have so far**."
      ]
    },
    {
      "cell_type": "code",
      "metadata": {
        "id": "iXLh-8flwG2o",
        "colab": {
          "base_uri": "https://localhost:8080/"
        },
        "outputId": "b25bd83d-3bb6-4f37-cbb1-895f4fa7f6b6"
      },
      "source": [
        "# Define list for result\n",
        "result = []\n",
        "\n",
        "for config in configs:\n",
        "\n",
        "    # Redefine vectorizer\n",
        "    tfidf_vector = TfidfVectorizer(tokenizer=spacy_tokenizer, \n",
        "                                   ngram_range=config[0],\n",
        "                                   min_df=config[1], max_df=config[2], analyzer=config[3])\n",
        "\n",
        "    # Define classifier\n",
        "    classifier = LogisticRegression(solver=\"lbfgs\", max_iter=1000, random_state=72)\n",
        "\n",
        "    # Create pipeline\n",
        "    pipe = Pipeline([('vectorizer', tfidf_vector),\n",
        "                 ('classifier', classifier)])\n",
        " \n",
        "    # Fit model on training set\n",
        "    pipe.fit(X_train, y_train)\n",
        "\n",
        "    # Predictions\n",
        "    y_pred = pipe.predict(X_test)\n",
        "\n",
        "    # Print accuracy on test set\n",
        "    print(\"CONFIG: \", config)\n",
        "    evaluate(y_test, y_pred)\n",
        "    print(\"-----------------------\")\n",
        "\n",
        "    # Append to result\n",
        "    result.append([config, accuracy_score(y_test, y_pred)])"
      ],
      "execution_count": null,
      "outputs": [
        {
          "output_type": "stream",
          "text": [
            "CONFIG:  [(1, 1), 1, 1.0, 'word']\n",
            "CONFUSION MATRIX:\n",
            "[[670  92]\n",
            " [153 363]]\n",
            "ACCURACY SCORE:\n",
            "0.8083\n",
            "-----------------------\n",
            "CONFIG:  [(1, 1), 1, 1.0, 'char']\n",
            "CONFUSION MATRIX:\n",
            "[[590 172]\n",
            " [220 296]]\n",
            "ACCURACY SCORE:\n",
            "0.6933\n",
            "-----------------------\n",
            "CONFIG:  [(1, 2), 1, 1.0, 'word']\n",
            "CONFUSION MATRIX:\n",
            "[[671  91]\n",
            " [152 364]]\n",
            "ACCURACY SCORE:\n",
            "0.8099\n",
            "-----------------------\n",
            "CONFIG:  [(1, 2), 1, 1.0, 'char']\n",
            "CONFUSION MATRIX:\n",
            "[[633 129]\n",
            " [179 337]]\n",
            "ACCURACY SCORE:\n",
            "0.7590\n",
            "-----------------------\n",
            "CONFIG:  [(1, 3), 1, 1.0, 'word']\n",
            "CONFUSION MATRIX:\n",
            "[[672  90]\n",
            " [159 357]]\n",
            "ACCURACY SCORE:\n",
            "0.8052\n",
            "-----------------------\n",
            "CONFIG:  [(1, 3), 1, 1.0, 'char']\n",
            "CONFUSION MATRIX:\n",
            "[[634 128]\n",
            " [165 351]]\n",
            "ACCURACY SCORE:\n",
            "0.7707\n",
            "-----------------------\n",
            "CONFIG:  [(2, 2), 1, 1.0, 'word']\n",
            "CONFUSION MATRIX:\n",
            "[[726  36]\n",
            " [304 212]]\n",
            "ACCURACY SCORE:\n",
            "0.7340\n",
            "-----------------------\n",
            "CONFIG:  [(2, 2), 1, 1.0, 'char']\n",
            "CONFUSION MATRIX:\n",
            "[[631 131]\n",
            " [172 344]]\n",
            "ACCURACY SCORE:\n",
            "0.7629\n",
            "-----------------------\n",
            "CONFIG:  [(2, 3), 1, 1.0, 'word']\n",
            "CONFUSION MATRIX:\n",
            "[[732  30]\n",
            " [315 201]]\n",
            "ACCURACY SCORE:\n",
            "0.7300\n",
            "-----------------------\n",
            "CONFIG:  [(2, 3), 1, 1.0, 'char']\n",
            "CONFUSION MATRIX:\n",
            "[[633 129]\n",
            " [169 347]]\n",
            "ACCURACY SCORE:\n",
            "0.7668\n",
            "-----------------------\n",
            "CONFIG:  [(3, 3), 1, 1.0, 'word']\n",
            "CONFUSION MATRIX:\n",
            "[[750  12]\n",
            " [377 139]]\n",
            "ACCURACY SCORE:\n",
            "0.6956\n",
            "-----------------------\n",
            "CONFIG:  [(3, 3), 1, 1.0, 'char']\n",
            "CONFUSION MATRIX:\n",
            "[[636 126]\n",
            " [165 351]]\n",
            "ACCURACY SCORE:\n",
            "0.7723\n",
            "-----------------------\n"
          ],
          "name": "stdout"
        }
      ]
    },
    {
      "cell_type": "markdown",
      "metadata": {
        "id": "vOMfOUEkxJAJ"
      },
      "source": [
        "We found out the best parameteres for the vectorizer and we run the pipe:"
      ]
    },
    {
      "cell_type": "code",
      "metadata": {
        "id": "2yxm8uFaxFSx",
        "colab": {
          "base_uri": "https://localhost:8080/"
        },
        "outputId": "628a1ee2-3c01-4093-b775-b4933a99331c"
      },
      "source": [
        "# Define vectorizer\n",
        "tfidf_vector = TfidfVectorizer(tokenizer=spacy_tokenizer,ngram_range=(1, 2),\n",
        "                                   min_df= 1, max_df=1.0, analyzer= 'word') # we use the above defined tokenizer\n",
        "\n",
        "# Define classifier\n",
        "classifier = LogisticRegression(solver=\"lbfgs\", max_iter=1000, random_state=72)\n",
        "\n",
        "# Create pipeline\n",
        "pipe = Pipeline([('vectorizer', tfidf_vector),\n",
        "                 ('classifier', classifier)])\n",
        "\n",
        "# Fit model on training set\n",
        "pipe.fit(X_train, y_train)\n",
        "\n",
        "# Predictions\n",
        "y_pred = pipe.predict(X_test)\n",
        "\n",
        "# Evaluation - test set\n",
        "evaluate(y_test, y_pred)\n",
        "\n",
        "# Evaluation - training set\n",
        "evaluate(y_train,pipe.predict(X_train))"
      ],
      "execution_count": null,
      "outputs": [
        {
          "output_type": "stream",
          "text": [
            "CONFUSION MATRIX:\n",
            "[[671  91]\n",
            " [152 364]]\n",
            "ACCURACY SCORE:\n",
            "0.8099\n",
            "CONFUSION MATRIX:\n",
            "[[2885   29]\n",
            " [ 407 1788]]\n",
            "ACCURACY SCORE:\n",
            "0.9147\n"
          ],
          "name": "stdout"
        }
      ]
    },
    {
      "cell_type": "markdown",
      "metadata": {
        "id": "sRbL8N94xcI6"
      },
      "source": [
        "###2.Submission **0.811**"
      ]
    },
    {
      "cell_type": "code",
      "metadata": {
        "id": "-tbBFWmrxSf2",
        "colab": {
          "base_uri": "https://localhost:8080/",
          "height": 419
        },
        "outputId": "2bf96335-ee59-424c-b9bc-ac3ec6e14af9"
      },
      "source": [
        "y_4 = df_test_data['text']\n",
        "y_4 = pd.DataFrame()\n",
        "y_4['target'] = pipe.predict(y_totest)\n",
        "y_4"
      ],
      "execution_count": null,
      "outputs": [
        {
          "output_type": "execute_result",
          "data": {
            "text/html": [
              "<div>\n",
              "<style scoped>\n",
              "    .dataframe tbody tr th:only-of-type {\n",
              "        vertical-align: middle;\n",
              "    }\n",
              "\n",
              "    .dataframe tbody tr th {\n",
              "        vertical-align: top;\n",
              "    }\n",
              "\n",
              "    .dataframe thead th {\n",
              "        text-align: right;\n",
              "    }\n",
              "</style>\n",
              "<table border=\"1\" class=\"dataframe\">\n",
              "  <thead>\n",
              "    <tr style=\"text-align: right;\">\n",
              "      <th></th>\n",
              "      <th>target</th>\n",
              "    </tr>\n",
              "  </thead>\n",
              "  <tbody>\n",
              "    <tr>\n",
              "      <th>0</th>\n",
              "      <td>0</td>\n",
              "    </tr>\n",
              "    <tr>\n",
              "      <th>1</th>\n",
              "      <td>0</td>\n",
              "    </tr>\n",
              "    <tr>\n",
              "      <th>2</th>\n",
              "      <td>1</td>\n",
              "    </tr>\n",
              "    <tr>\n",
              "      <th>3</th>\n",
              "      <td>0</td>\n",
              "    </tr>\n",
              "    <tr>\n",
              "      <th>4</th>\n",
              "      <td>0</td>\n",
              "    </tr>\n",
              "    <tr>\n",
              "      <th>...</th>\n",
              "      <td>...</td>\n",
              "    </tr>\n",
              "    <tr>\n",
              "      <th>1137</th>\n",
              "      <td>1</td>\n",
              "    </tr>\n",
              "    <tr>\n",
              "      <th>1138</th>\n",
              "      <td>1</td>\n",
              "    </tr>\n",
              "    <tr>\n",
              "      <th>1139</th>\n",
              "      <td>1</td>\n",
              "    </tr>\n",
              "    <tr>\n",
              "      <th>1140</th>\n",
              "      <td>0</td>\n",
              "    </tr>\n",
              "    <tr>\n",
              "      <th>1141</th>\n",
              "      <td>1</td>\n",
              "    </tr>\n",
              "  </tbody>\n",
              "</table>\n",
              "<p>1142 rows × 1 columns</p>\n",
              "</div>"
            ],
            "text/plain": [
              "      target\n",
              "0          0\n",
              "1          0\n",
              "2          1\n",
              "3          0\n",
              "4          0\n",
              "...      ...\n",
              "1137       1\n",
              "1138       1\n",
              "1139       1\n",
              "1140       0\n",
              "1141       1\n",
              "\n",
              "[1142 rows x 1 columns]"
            ]
          },
          "metadata": {
            "tags": []
          },
          "execution_count": 33
        }
      ]
    },
    {
      "cell_type": "code",
      "metadata": {
        "id": "6W2YKyjCxW2D"
      },
      "source": [
        "y_4.to_csv('y_4.csv')\n",
        "!cp y_4.csv \"drive/My Drive/DM&ML/Colab Notebooks/Project\""
      ],
      "execution_count": null,
      "outputs": []
    },
    {
      "cell_type": "markdown",
      "metadata": {
        "id": "M8j0hkdWd5mX"
      },
      "source": [
        "#Conclusion\n",
        "In this notebook we did clean the data for the first time. We removed duplicates, tokenized, removed stopwords and removed punctuation marks. Then we made predictions with simple regression, tried to find the best parameter with cross validation, used random forest and finally tried to find the best parameter without cross validation.\n",
        "\n",
        "Our best result until now was 0.811 which is the best score we submitted until this point"
      ]
    },
    {
      "cell_type": "markdown",
      "metadata": {
        "id": "hQPlUgX0eX0S"
      },
      "source": [
        "Here are all accuracies until iteration 1:\n",
        "\n",
        "| Model       | Vectorizer  | Test Accuracy  | Submission Accuracy  |\n",
        "|----------------------|---------------------|---------|---------------|\n",
        "| Logistic Regression without CV *(max_df=1.0,min_df=1,ngram_range=(1, 1)*)  |TF-IDF| 0,8083 |  0,803   |\n",
        "| Logistic Regression with CV *(idem, ngram_range=(1, 1))* |TF-IDF| 0,7895   |NaN  |\n",
        "| Random Forest Classifier|TF-IDF| 0,7973 |NaN |       \n",
        "| **Logistic Regression without CV (idem, ngram_range=(1, 2))**  |**TF-IDF** |**0,8099**  |**0,811**|\n"
      ]
    }
  ]
}